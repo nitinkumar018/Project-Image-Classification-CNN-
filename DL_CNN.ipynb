{
  "nbformat": 4,
  "nbformat_minor": 0,
  "metadata": {
    "colab": {
      "provenance": [],
      "gpuType": "T4"
    },
    "kernelspec": {
      "name": "python3",
      "display_name": "Python 3"
    },
    "language_info": {
      "name": "python"
    },
    "accelerator": "GPU",
    "widgets": {
      "application/vnd.jupyter.widget-state+json": {
        "7315da718fbf4350b90d7692a0702535": {
          "model_module": "@jupyter-widgets/controls",
          "model_name": "HBoxModel",
          "model_module_version": "1.5.0",
          "state": {
            "_dom_classes": [],
            "_model_module": "@jupyter-widgets/controls",
            "_model_module_version": "1.5.0",
            "_model_name": "HBoxModel",
            "_view_count": null,
            "_view_module": "@jupyter-widgets/controls",
            "_view_module_version": "1.5.0",
            "_view_name": "HBoxView",
            "box_style": "",
            "children": [
              "IPY_MODEL_439166e481204cd0aa90843510693281",
              "IPY_MODEL_219c7c204fe34e91809680f0544a7a6a",
              "IPY_MODEL_4b53eaf539624eaf950a6a76144c155a"
            ],
            "layout": "IPY_MODEL_e5fcedfc121e47fcb1ca3ec1ad0f7552"
          }
        },
        "439166e481204cd0aa90843510693281": {
          "model_module": "@jupyter-widgets/controls",
          "model_name": "HTMLModel",
          "model_module_version": "1.5.0",
          "state": {
            "_dom_classes": [],
            "_model_module": "@jupyter-widgets/controls",
            "_model_module_version": "1.5.0",
            "_model_name": "HTMLModel",
            "_view_count": null,
            "_view_module": "@jupyter-widgets/controls",
            "_view_module_version": "1.5.0",
            "_view_name": "HTMLView",
            "description": "",
            "description_tooltip": null,
            "layout": "IPY_MODEL_6a5ea7cf048646c1a1f955884e438c44",
            "placeholder": "​",
            "style": "IPY_MODEL_85a1e466d100436188d7f13274ee86cd",
            "value": "100%"
          }
        },
        "219c7c204fe34e91809680f0544a7a6a": {
          "model_module": "@jupyter-widgets/controls",
          "model_name": "FloatProgressModel",
          "model_module_version": "1.5.0",
          "state": {
            "_dom_classes": [],
            "_model_module": "@jupyter-widgets/controls",
            "_model_module_version": "1.5.0",
            "_model_name": "FloatProgressModel",
            "_view_count": null,
            "_view_module": "@jupyter-widgets/controls",
            "_view_module_version": "1.5.0",
            "_view_name": "ProgressView",
            "bar_style": "success",
            "description": "",
            "description_tooltip": null,
            "layout": "IPY_MODEL_c4c3260bddb6488b8d288fd4c70eba94",
            "max": 1326,
            "min": 0,
            "orientation": "horizontal",
            "style": "IPY_MODEL_d45ce1c8610e41c48798facc9b3f3491",
            "value": 1326
          }
        },
        "4b53eaf539624eaf950a6a76144c155a": {
          "model_module": "@jupyter-widgets/controls",
          "model_name": "HTMLModel",
          "model_module_version": "1.5.0",
          "state": {
            "_dom_classes": [],
            "_model_module": "@jupyter-widgets/controls",
            "_model_module_version": "1.5.0",
            "_model_name": "HTMLModel",
            "_view_count": null,
            "_view_module": "@jupyter-widgets/controls",
            "_view_module_version": "1.5.0",
            "_view_name": "HTMLView",
            "description": "",
            "description_tooltip": null,
            "layout": "IPY_MODEL_254c9931aac046a183452e44d8343b83",
            "placeholder": "​",
            "style": "IPY_MODEL_9c4ff95f6eb04c0e9ab9b3ca6440f0c2",
            "value": " 1326/1326 [00:18&lt;00:00, 97.78it/s]"
          }
        },
        "e5fcedfc121e47fcb1ca3ec1ad0f7552": {
          "model_module": "@jupyter-widgets/base",
          "model_name": "LayoutModel",
          "model_module_version": "1.2.0",
          "state": {
            "_model_module": "@jupyter-widgets/base",
            "_model_module_version": "1.2.0",
            "_model_name": "LayoutModel",
            "_view_count": null,
            "_view_module": "@jupyter-widgets/base",
            "_view_module_version": "1.2.0",
            "_view_name": "LayoutView",
            "align_content": null,
            "align_items": null,
            "align_self": null,
            "border": null,
            "bottom": null,
            "display": null,
            "flex": null,
            "flex_flow": null,
            "grid_area": null,
            "grid_auto_columns": null,
            "grid_auto_flow": null,
            "grid_auto_rows": null,
            "grid_column": null,
            "grid_gap": null,
            "grid_row": null,
            "grid_template_areas": null,
            "grid_template_columns": null,
            "grid_template_rows": null,
            "height": null,
            "justify_content": null,
            "justify_items": null,
            "left": null,
            "margin": null,
            "max_height": null,
            "max_width": null,
            "min_height": null,
            "min_width": null,
            "object_fit": null,
            "object_position": null,
            "order": null,
            "overflow": null,
            "overflow_x": null,
            "overflow_y": null,
            "padding": null,
            "right": null,
            "top": null,
            "visibility": null,
            "width": null
          }
        },
        "6a5ea7cf048646c1a1f955884e438c44": {
          "model_module": "@jupyter-widgets/base",
          "model_name": "LayoutModel",
          "model_module_version": "1.2.0",
          "state": {
            "_model_module": "@jupyter-widgets/base",
            "_model_module_version": "1.2.0",
            "_model_name": "LayoutModel",
            "_view_count": null,
            "_view_module": "@jupyter-widgets/base",
            "_view_module_version": "1.2.0",
            "_view_name": "LayoutView",
            "align_content": null,
            "align_items": null,
            "align_self": null,
            "border": null,
            "bottom": null,
            "display": null,
            "flex": null,
            "flex_flow": null,
            "grid_area": null,
            "grid_auto_columns": null,
            "grid_auto_flow": null,
            "grid_auto_rows": null,
            "grid_column": null,
            "grid_gap": null,
            "grid_row": null,
            "grid_template_areas": null,
            "grid_template_columns": null,
            "grid_template_rows": null,
            "height": null,
            "justify_content": null,
            "justify_items": null,
            "left": null,
            "margin": null,
            "max_height": null,
            "max_width": null,
            "min_height": null,
            "min_width": null,
            "object_fit": null,
            "object_position": null,
            "order": null,
            "overflow": null,
            "overflow_x": null,
            "overflow_y": null,
            "padding": null,
            "right": null,
            "top": null,
            "visibility": null,
            "width": null
          }
        },
        "85a1e466d100436188d7f13274ee86cd": {
          "model_module": "@jupyter-widgets/controls",
          "model_name": "DescriptionStyleModel",
          "model_module_version": "1.5.0",
          "state": {
            "_model_module": "@jupyter-widgets/controls",
            "_model_module_version": "1.5.0",
            "_model_name": "DescriptionStyleModel",
            "_view_count": null,
            "_view_module": "@jupyter-widgets/base",
            "_view_module_version": "1.2.0",
            "_view_name": "StyleView",
            "description_width": ""
          }
        },
        "c4c3260bddb6488b8d288fd4c70eba94": {
          "model_module": "@jupyter-widgets/base",
          "model_name": "LayoutModel",
          "model_module_version": "1.2.0",
          "state": {
            "_model_module": "@jupyter-widgets/base",
            "_model_module_version": "1.2.0",
            "_model_name": "LayoutModel",
            "_view_count": null,
            "_view_module": "@jupyter-widgets/base",
            "_view_module_version": "1.2.0",
            "_view_name": "LayoutView",
            "align_content": null,
            "align_items": null,
            "align_self": null,
            "border": null,
            "bottom": null,
            "display": null,
            "flex": null,
            "flex_flow": null,
            "grid_area": null,
            "grid_auto_columns": null,
            "grid_auto_flow": null,
            "grid_auto_rows": null,
            "grid_column": null,
            "grid_gap": null,
            "grid_row": null,
            "grid_template_areas": null,
            "grid_template_columns": null,
            "grid_template_rows": null,
            "height": null,
            "justify_content": null,
            "justify_items": null,
            "left": null,
            "margin": null,
            "max_height": null,
            "max_width": null,
            "min_height": null,
            "min_width": null,
            "object_fit": null,
            "object_position": null,
            "order": null,
            "overflow": null,
            "overflow_x": null,
            "overflow_y": null,
            "padding": null,
            "right": null,
            "top": null,
            "visibility": null,
            "width": null
          }
        },
        "d45ce1c8610e41c48798facc9b3f3491": {
          "model_module": "@jupyter-widgets/controls",
          "model_name": "ProgressStyleModel",
          "model_module_version": "1.5.0",
          "state": {
            "_model_module": "@jupyter-widgets/controls",
            "_model_module_version": "1.5.0",
            "_model_name": "ProgressStyleModel",
            "_view_count": null,
            "_view_module": "@jupyter-widgets/base",
            "_view_module_version": "1.2.0",
            "_view_name": "StyleView",
            "bar_color": null,
            "description_width": ""
          }
        },
        "254c9931aac046a183452e44d8343b83": {
          "model_module": "@jupyter-widgets/base",
          "model_name": "LayoutModel",
          "model_module_version": "1.2.0",
          "state": {
            "_model_module": "@jupyter-widgets/base",
            "_model_module_version": "1.2.0",
            "_model_name": "LayoutModel",
            "_view_count": null,
            "_view_module": "@jupyter-widgets/base",
            "_view_module_version": "1.2.0",
            "_view_name": "LayoutView",
            "align_content": null,
            "align_items": null,
            "align_self": null,
            "border": null,
            "bottom": null,
            "display": null,
            "flex": null,
            "flex_flow": null,
            "grid_area": null,
            "grid_auto_columns": null,
            "grid_auto_flow": null,
            "grid_auto_rows": null,
            "grid_column": null,
            "grid_gap": null,
            "grid_row": null,
            "grid_template_areas": null,
            "grid_template_columns": null,
            "grid_template_rows": null,
            "height": null,
            "justify_content": null,
            "justify_items": null,
            "left": null,
            "margin": null,
            "max_height": null,
            "max_width": null,
            "min_height": null,
            "min_width": null,
            "object_fit": null,
            "object_position": null,
            "order": null,
            "overflow": null,
            "overflow_x": null,
            "overflow_y": null,
            "padding": null,
            "right": null,
            "top": null,
            "visibility": null,
            "width": null
          }
        },
        "9c4ff95f6eb04c0e9ab9b3ca6440f0c2": {
          "model_module": "@jupyter-widgets/controls",
          "model_name": "DescriptionStyleModel",
          "model_module_version": "1.5.0",
          "state": {
            "_model_module": "@jupyter-widgets/controls",
            "_model_module_version": "1.5.0",
            "_model_name": "DescriptionStyleModel",
            "_view_count": null,
            "_view_module": "@jupyter-widgets/base",
            "_view_module_version": "1.2.0",
            "_view_name": "StyleView",
            "description_width": ""
          }
        }
      }
    }
  },
  "cells": [
    {
      "cell_type": "code",
      "execution_count": 1,
      "metadata": {
        "id": "OO-580JSnzc2"
      },
      "outputs": [],
      "source": [
        "#import the packages\n",
        "from tensorflow.keras.models import Sequential  # neural network CNN\n",
        "from tensorflow.keras.layers import Conv2D   # convolution layer\n",
        "from tensorflow.keras.layers import MaxPooling2D   # Pooling layer\n",
        "from tensorflow.keras.layers import Activation  # activation function\n",
        "from tensorflow.keras.layers import Flatten   # reshapes input data into a 1-D array\n",
        "from tensorflow.keras.layers import Dense   # create input layer, hidden layer, output layer\n",
        "from tensorflow.keras import backend as K  # determines the data format of an image\n",
        "from tensorflow.keras.preprocessing.image import ImageDataGenerator  # for data augmentation\n",
        "from tensorflow.keras.optimizers import Adam  # an optimizer check the difference between actual & predicted value\n",
        "from tensorflow.keras.preprocessing.image import img_to_array  # convert image into array\n",
        "from tensorflow.keras.utils import to_categorical  # convert array of integers into array of binary values"
      ]
    },
    {
      "cell_type": "code",
      "source": [
        "from sklearn.model_selection import train_test_split  # splitting the data\n",
        "\n",
        "from imutils import paths     # to get list of images saved in our dataset\n",
        "import matplotlib.pyplot as plt\n",
        "import numpy as np\n",
        "import argparse   # allows us to write command-line interfaces for our code\n",
        "import random\n",
        "import cv2   # computer vision lib. for reading & preprocessing the image\n",
        "import os    # operating system\n",
        "\n",
        "import warnings\n",
        "from tqdm import tqdm_notebook as tqdm   # show progress bar\n",
        "import itertools  # generate values one at a time\n",
        "\n",
        "import tensorflow as tf\n",
        "warnings.filterwarnings(\"ignore\")\n",
        "SEED=42 #set random seed\n",
        "\n",
        "print(tf.__version__)   # version of tensorflow lib."
      ],
      "metadata": {
        "colab": {
          "base_uri": "https://localhost:8080/"
        },
        "id": "dAhhCXjx191k",
        "outputId": "bbbd6940-13fd-4867-934b-5341cfaf978f"
      },
      "execution_count": 2,
      "outputs": [
        {
          "output_type": "stream",
          "name": "stdout",
          "text": [
            "2.17.0\n"
          ]
        }
      ]
    },
    {
      "cell_type": "code",
      "source": [
        "class LeNet:  # create a class\n",
        "    @staticmethod\n",
        "    def build(width, height, depth, classes):\n",
        "\n",
        "        model = Sequential()  # CNN model\n",
        "        inputShape = (height, width, depth)\n",
        "\n",
        "\n",
        "        if K.image_data_format() == \"channels_first\":\n",
        "            inputShape = (depth, height, width)\n",
        "\n",
        "        model.add(Conv2D(20, (5, 5), padding=\"same\",input_shape=inputShape))  # create convolution layer\n",
        "        model.add(Activation(\"relu\"))\n",
        "        model.add(MaxPooling2D(pool_size=(2, 2), strides=(2, 2)))  # create  Pooling layer\n",
        "\n",
        "\n",
        "        model.add(Conv2D(50, (5, 5), padding=\"same\"))\n",
        "        model.add(Activation(\"relu\"))\n",
        "        model.add(MaxPooling2D(pool_size=(2, 2), strides=(2, 2)))\n",
        "\n",
        "        model.add(Flatten())  # reshape input data into 1D array\n",
        "        model.add(Dense(500))  # create input, hidden & output layer\n",
        "        model.add(Activation(\"relu\"))  # relu activation function\n",
        "\n",
        "        model.add(Dense(classes))\n",
        "        model.add(Activation(\"softmax\"))\n",
        "\n",
        "        return model"
      ],
      "metadata": {
        "id": "bnjTnwI65hse"
      },
      "execution_count": 3,
      "outputs": []
    },
    {
      "cell_type": "code",
      "source": [
        "from google.colab import drive  # give permission to Colab to access files saved in our google drive\n",
        "drive.mount('/content/drive')"
      ],
      "metadata": {
        "colab": {
          "base_uri": "https://localhost:8080/"
        },
        "id": "pHNc-K8b8XF-",
        "outputId": "b9103e30-ca7f-40b6-a792-2e6473ce1945"
      },
      "execution_count": 4,
      "outputs": [
        {
          "output_type": "stream",
          "name": "stdout",
          "text": [
            "Drive already mounted at /content/drive; to attempt to forcibly remount, call drive.mount(\"/content/drive\", force_remount=True).\n"
          ]
        }
      ]
    },
    {
      "cell_type": "code",
      "source": [
        "import os\n",
        "os.chdir('/content/drive/MyDrive/DL_Convolution')  # change directory & come to the present working folder DL_Convolution"
      ],
      "metadata": {
        "id": "srX-8skJ9w7y"
      },
      "execution_count": 5,
      "outputs": []
    },
    {
      "cell_type": "code",
      "source": [
        "!dir  # show all the files in current folder"
      ],
      "metadata": {
        "colab": {
          "base_uri": "https://localhost:8080/"
        },
        "id": "-FKJ97wcAL-9",
        "outputId": "dcfab9b7-0d42-47ff-dc6c-07d2925bc00f"
      },
      "execution_count": 6,
      "outputs": [
        {
          "output_type": "stream",
          "name": "stdout",
          "text": [
            "dataset.rar  DL_CNN.ipynb\n"
          ]
        }
      ]
    },
    {
      "cell_type": "code",
      "source": [
        "!pip install patool\n",
        "import patoolib\n",
        "patoolib.extract_archive('dataset.rar')  # unzip dataset.rar file"
      ],
      "metadata": {
        "id": "SpMkEcC5BA13",
        "colab": {
          "base_uri": "https://localhost:8080/",
          "height": 192
        },
        "outputId": "1caa4eb7-171a-424d-fc14-f9e8429b9145"
      },
      "execution_count": 7,
      "outputs": [
        {
          "output_type": "stream",
          "name": "stdout",
          "text": [
            "Requirement already satisfied: patool in /usr/local/lib/python3.10/dist-packages (2.4.0)\n"
          ]
        },
        {
          "output_type": "stream",
          "name": "stderr",
          "text": [
            "INFO patool: Extracting dataset.rar ...\n",
            "INFO:patool:Extracting dataset.rar ...\n",
            "INFO patool: running /usr/bin/unrar x -- /content/drive/MyDrive/DL_Convolution/dataset.rar\n",
            "INFO:patool:running /usr/bin/unrar x -- /content/drive/MyDrive/DL_Convolution/dataset.rar\n",
            "INFO patool:     with cwd='./Unpack_aypbt3as', input=''\n",
            "INFO:patool:    with cwd='./Unpack_aypbt3as', input=''\n",
            "INFO patool: ... dataset.rar extracted to `dataset'.\n",
            "INFO:patool:... dataset.rar extracted to `dataset'.\n"
          ]
        },
        {
          "output_type": "execute_result",
          "data": {
            "text/plain": [
              "'dataset'"
            ],
            "application/vnd.google.colaboratory.intrinsic+json": {
              "type": "string"
            }
          },
          "metadata": {},
          "execution_count": 7
        }
      ]
    },
    {
      "cell_type": "code",
      "source": [
        "DATASET = \"dataset\"  # this folder must contain three subfolder with images"
      ],
      "metadata": {
        "id": "3tk2pCb4BVuk"
      },
      "execution_count": 8,
      "outputs": []
    },
    {
      "cell_type": "code",
      "source": [
        "EPOCHS = 25  # define epochs\n",
        "BS = 32  # Batch Size"
      ],
      "metadata": {
        "id": "TkWEVOswCIL4"
      },
      "execution_count": 9,
      "outputs": []
    },
    {
      "cell_type": "code",
      "source": [
        "# initialize the data and labels\n",
        "print(\"[INFO] loading images...\")\n",
        "data = []    # empty list\n",
        "labels = []\n",
        "\n",
        "# grab the image paths and randomly shuffle them\n",
        "imagePaths = sorted(list(paths.list_images(DATASET)))  # we get list of images, arrange them in ascending order\n",
        "random.seed(42)  # 42 images stored at a time\n",
        "random.shuffle(imagePaths)  # randomly shuffle all the images\n",
        "\n",
        "# progress bar\n",
        "with tqdm(total=len(imagePaths)) as pbar:  # show progress bar\n",
        "\n",
        "    # loop over the input images\n",
        "    for idx, imagePath in enumerate(imagePaths):\n",
        "        # load the image, pre-process it, and store it in the data list\n",
        "        image = cv2.imread(imagePath)   # read image\n",
        "        image = cv2.resize(image, (28, 28))  # resize the image\n",
        "        image = img_to_array(image)  # convert image into an array which store numbers\n",
        "        data.append(image)   # store the numbers into the empty list data\n",
        "\n",
        "        # extract the class label from the image path and update the\n",
        "        # labels list\n",
        "        label = imagePath.split(os.path.sep)[-2]  # convert categorical classes into numeric\n",
        "\n",
        "\n",
        "\n",
        "        if label == \"Buildings\":\n",
        "            label = 0\n",
        "        elif label == \"Forest\":\n",
        "            label = 1\n",
        "        elif label == \"Sea\":\n",
        "            label = 2\n",
        "\n",
        "        # print(\"pr: \", label)\n",
        "\n",
        "        labels.append(label)  # store the numeric value of classes into empty list labels\n",
        "\n",
        "        # update the progressbar\n",
        "        pbar.update(1)"
      ],
      "metadata": {
        "id": "pHorQxwyDQGQ",
        "colab": {
          "base_uri": "https://localhost:8080/",
          "height": 66,
          "referenced_widgets": [
            "7315da718fbf4350b90d7692a0702535",
            "439166e481204cd0aa90843510693281",
            "219c7c204fe34e91809680f0544a7a6a",
            "4b53eaf539624eaf950a6a76144c155a",
            "e5fcedfc121e47fcb1ca3ec1ad0f7552",
            "6a5ea7cf048646c1a1f955884e438c44",
            "85a1e466d100436188d7f13274ee86cd",
            "c4c3260bddb6488b8d288fd4c70eba94",
            "d45ce1c8610e41c48798facc9b3f3491",
            "254c9931aac046a183452e44d8343b83",
            "9c4ff95f6eb04c0e9ab9b3ca6440f0c2"
          ]
        },
        "outputId": "30b55273-a793-4e0e-c73e-f45db340bf84"
      },
      "execution_count": 10,
      "outputs": [
        {
          "output_type": "stream",
          "name": "stdout",
          "text": [
            "[INFO] loading images...\n"
          ]
        },
        {
          "output_type": "display_data",
          "data": {
            "text/plain": [
              "  0%|          | 0/1326 [00:00<?, ?it/s]"
            ],
            "application/vnd.jupyter.widget-view+json": {
              "version_major": 2,
              "version_minor": 0,
              "model_id": "7315da718fbf4350b90d7692a0702535"
            }
          },
          "metadata": {}
        }
      ]
    },
    {
      "cell_type": "code",
      "source": [
        "# define x & y\n",
        "data = np.array(data, dtype=\"float\") / 255.0  #x\n",
        "labels = np.array(labels)  #y"
      ],
      "metadata": {
        "id": "Y4jRbF_g4x46"
      },
      "execution_count": 11,
      "outputs": []
    },
    {
      "cell_type": "code",
      "source": [
        "labels"
      ],
      "metadata": {
        "colab": {
          "base_uri": "https://localhost:8080/"
        },
        "id": "OSwD18Z_7b_Y",
        "outputId": "ff3ff487-8eb1-4a42-a625-64f76ab6907e"
      },
      "execution_count": 12,
      "outputs": [
        {
          "output_type": "execute_result",
          "data": {
            "text/plain": [
              "array([0, 1, 0, ..., 0, 0, 2])"
            ]
          },
          "metadata": {},
          "execution_count": 12
        }
      ]
    },
    {
      "cell_type": "code",
      "source": [
        "data"
      ],
      "metadata": {
        "colab": {
          "base_uri": "https://localhost:8080/"
        },
        "id": "OkXFQAyc7gag",
        "outputId": "8d8a4389-1cf9-44f2-f9e2-a9d067411c20"
      },
      "execution_count": 13,
      "outputs": [
        {
          "output_type": "execute_result",
          "data": {
            "text/plain": [
              "array([[[[0.92941176, 0.81960784, 0.77647059],\n",
              "         [0.94117647, 0.84313725, 0.80392157],\n",
              "         [0.92941176, 0.84313725, 0.8       ],\n",
              "         ...,\n",
              "         [0.7372549 , 0.56078431, 0.45490196],\n",
              "         [0.78431373, 0.61176471, 0.49019608],\n",
              "         [0.76470588, 0.54117647, 0.41568627]],\n",
              "\n",
              "        [[0.92156863, 0.81176471, 0.75294118],\n",
              "         [0.90980392, 0.82352941, 0.77647059],\n",
              "         [0.9254902 , 0.85098039, 0.81960784],\n",
              "         ...,\n",
              "         [0.83921569, 0.6627451 , 0.56862745],\n",
              "         [0.71372549, 0.45882353, 0.31372549],\n",
              "         [0.68235294, 0.44313725, 0.30196078]],\n",
              "\n",
              "        [[0.89411765, 0.78039216, 0.72156863],\n",
              "         [0.95294118, 0.85882353, 0.80784314],\n",
              "         [0.96078431, 0.88235294, 0.83921569],\n",
              "         ...,\n",
              "         [0.80784314, 0.60392157, 0.48235294],\n",
              "         [0.81960784, 0.61176471, 0.47058824],\n",
              "         [0.70980392, 0.4627451 , 0.31764706]],\n",
              "\n",
              "        ...,\n",
              "\n",
              "        [[0.60784314, 0.64313725, 0.6745098 ],\n",
              "         [0.56078431, 0.59607843, 0.64705882],\n",
              "         [0.5372549 , 0.58431373, 0.60784314],\n",
              "         ...,\n",
              "         [0.25882353, 0.22352941, 0.21176471],\n",
              "         [0.06666667, 0.03529412, 0.02745098],\n",
              "         [0.05490196, 0.02352941, 0.02352941]],\n",
              "\n",
              "        [[0.38039216, 0.44313725, 0.50588235],\n",
              "         [0.44313725, 0.50588235, 0.55294118],\n",
              "         [0.46666667, 0.50980392, 0.54901961],\n",
              "         ...,\n",
              "         [0.0745098 , 0.05882353, 0.0627451 ],\n",
              "         [0.10588235, 0.09803922, 0.09019608],\n",
              "         [0.05882353, 0.04705882, 0.04705882]],\n",
              "\n",
              "        [[0.57647059, 0.62352941, 0.6627451 ],\n",
              "         [0.54117647, 0.58431373, 0.61960784],\n",
              "         [0.49803922, 0.53333333, 0.56862745],\n",
              "         ...,\n",
              "         [0.42352941, 0.44705882, 0.43921569],\n",
              "         [0.39215686, 0.39215686, 0.39215686],\n",
              "         [0.37647059, 0.38431373, 0.38431373]]],\n",
              "\n",
              "\n",
              "       [[[0.10196078, 0.18431373, 0.14901961],\n",
              "         [0.05882353, 0.15294118, 0.1372549 ],\n",
              "         [0.79215686, 0.85490196, 0.89803922],\n",
              "         ...,\n",
              "         [0.09803922, 0.3372549 , 0.22352941],\n",
              "         [0.19215686, 0.58823529, 0.45490196],\n",
              "         [0.07058824, 0.41176471, 0.2745098 ]],\n",
              "\n",
              "        [[0.14117647, 0.23137255, 0.20392157],\n",
              "         [0.00392157, 0.05490196, 0.05882353],\n",
              "         [0.88235294, 0.9372549 , 0.94509804],\n",
              "         ...,\n",
              "         [0.38039216, 0.75294118, 0.64313725],\n",
              "         [0.05098039, 0.33333333, 0.22745098],\n",
              "         [0.05490196, 0.27843137, 0.19215686]],\n",
              "\n",
              "        [[0.14117647, 0.22352941, 0.18823529],\n",
              "         [0.00784314, 0.01568627, 0.06666667],\n",
              "         [0.85882353, 0.92941176, 0.97647059],\n",
              "         ...,\n",
              "         [0.11372549, 0.42352941, 0.33333333],\n",
              "         [0.24313725, 0.59215686, 0.49019608],\n",
              "         [0.03921569, 0.19607843, 0.12941176]],\n",
              "\n",
              "        ...,\n",
              "\n",
              "        [[0.0627451 , 0.19607843, 0.38039216],\n",
              "         [0.17647059, 0.33333333, 0.47843137],\n",
              "         [0.01960784, 0.14901961, 0.18431373],\n",
              "         ...,\n",
              "         [0.14117647, 0.34509804, 0.29803922],\n",
              "         [0.14117647, 0.44313725, 0.36470588],\n",
              "         [0.        , 0.18823529, 0.10588235]],\n",
              "\n",
              "        [[0.05098039, 0.14901961, 0.27843137],\n",
              "         [0.09411765, 0.19607843, 0.29019608],\n",
              "         [0.05098039, 0.12156863, 0.15686275],\n",
              "         ...,\n",
              "         [0.34901961, 0.57254902, 0.61176471],\n",
              "         [0.1254902 , 0.3372549 , 0.36470588],\n",
              "         [0.15686275, 0.41568627, 0.29803922]],\n",
              "\n",
              "        [[0.03921569, 0.1254902 , 0.23529412],\n",
              "         [0.00784314, 0.05098039, 0.09411765],\n",
              "         [0.03137255, 0.09411765, 0.11764706],\n",
              "         ...,\n",
              "         [0.17647059, 0.43137255, 0.28627451],\n",
              "         [0.00784314, 0.23137255, 0.09019608],\n",
              "         [0.01568627, 0.21176471, 0.12941176]]],\n",
              "\n",
              "\n",
              "       [[[0.71372549, 0.49019608, 0.24705882],\n",
              "         [0.71372549, 0.49019608, 0.24705882],\n",
              "         [0.71372549, 0.49019608, 0.24705882],\n",
              "         ...,\n",
              "         [0.20392157, 0.19215686, 0.41568627],\n",
              "         [0.10980392, 0.17647059, 0.46666667],\n",
              "         [0.63921569, 0.50588235, 0.40392157]],\n",
              "\n",
              "        [[0.71764706, 0.50196078, 0.24705882],\n",
              "         [0.72156863, 0.50196078, 0.24705882],\n",
              "         [0.7254902 , 0.50588235, 0.25098039],\n",
              "         ...,\n",
              "         [0.23137255, 0.36078431, 0.74901961],\n",
              "         [0.21960784, 0.35686275, 0.75686275],\n",
              "         [0.20392157, 0.30588235, 0.71764706]],\n",
              "\n",
              "        [[0.72156863, 0.50980392, 0.25490196],\n",
              "         [0.7254902 , 0.50980392, 0.25490196],\n",
              "         [0.73333333, 0.51372549, 0.25882353],\n",
              "         ...,\n",
              "         [0.22745098, 0.34901961, 0.74901961],\n",
              "         [0.21176471, 0.36470588, 0.74117647],\n",
              "         [0.23137255, 0.36078431, 0.78823529]],\n",
              "\n",
              "        ...,\n",
              "\n",
              "        [[0.05490196, 0.05882353, 0.06666667],\n",
              "         [0.03137255, 0.03921569, 0.02352941],\n",
              "         [0.05490196, 0.03921569, 0.05882353],\n",
              "         ...,\n",
              "         [0.08235294, 0.12156863, 0.20784314],\n",
              "         [0.92156863, 0.98823529, 1.        ],\n",
              "         [0.16078431, 0.19607843, 0.26666667]],\n",
              "\n",
              "        [[0.03137255, 0.03529412, 0.03921569],\n",
              "         [0.05098039, 0.03529412, 0.02745098],\n",
              "         [0.01960784, 0.01960784, 0.03137255],\n",
              "         ...,\n",
              "         [0.11764706, 0.14117647, 0.15686275],\n",
              "         [0.71764706, 0.78431373, 0.81960784],\n",
              "         [0.15686275, 0.2       , 0.26666667]],\n",
              "\n",
              "        [[0.00784314, 0.02352941, 0.02745098],\n",
              "         [0.10980392, 0.08627451, 0.07843137],\n",
              "         [0.01176471, 0.01176471, 0.01568627],\n",
              "         ...,\n",
              "         [0.1372549 , 0.16078431, 0.23137255],\n",
              "         [0.71764706, 0.76470588, 0.78039216],\n",
              "         [0.14901961, 0.20784314, 0.30588235]]],\n",
              "\n",
              "\n",
              "       ...,\n",
              "\n",
              "\n",
              "       [[[0.57254902, 0.52941176, 0.56862745],\n",
              "         [0.55294118, 0.51764706, 0.55686275],\n",
              "         [0.60392157, 0.56470588, 0.61568627],\n",
              "         ...,\n",
              "         [0.41568627, 0.2745098 , 0.25098039],\n",
              "         [0.38431373, 0.23921569, 0.2       ],\n",
              "         [0.39215686, 0.25882353, 0.20784314]],\n",
              "\n",
              "        [[0.58039216, 0.54117647, 0.58823529],\n",
              "         [0.57647059, 0.5372549 , 0.58823529],\n",
              "         [0.61176471, 0.57254902, 0.62352941],\n",
              "         ...,\n",
              "         [0.39215686, 0.25098039, 0.21568627],\n",
              "         [0.41176471, 0.26666667, 0.23529412],\n",
              "         [0.40784314, 0.2627451 , 0.24313725]],\n",
              "\n",
              "        [[0.55686275, 0.50980392, 0.55686275],\n",
              "         [0.56862745, 0.52941176, 0.58039216],\n",
              "         [0.56862745, 0.52941176, 0.58039216],\n",
              "         ...,\n",
              "         [0.41960784, 0.2745098 , 0.24313725],\n",
              "         [0.43921569, 0.29411765, 0.27843137],\n",
              "         [0.44313725, 0.30588235, 0.28627451]],\n",
              "\n",
              "        ...,\n",
              "\n",
              "        [[0.10588235, 0.20784314, 0.30588235],\n",
              "         [0.12156863, 0.23137255, 0.31372549],\n",
              "         [0.24313725, 0.36470588, 0.45490196],\n",
              "         ...,\n",
              "         [0.3254902 , 0.41176471, 0.52156863],\n",
              "         [0.31372549, 0.4       , 0.50980392],\n",
              "         [0.23529412, 0.32941176, 0.43921569]],\n",
              "\n",
              "        [[0.05490196, 0.09411765, 0.12941176],\n",
              "         [0.18039216, 0.26666667, 0.33333333],\n",
              "         [0.10196078, 0.14901961, 0.21176471],\n",
              "         ...,\n",
              "         [0.5372549 , 0.62745098, 0.74509804],\n",
              "         [0.51764706, 0.61176471, 0.72156863],\n",
              "         [0.51764706, 0.61960784, 0.7372549 ]],\n",
              "\n",
              "        [[0.01568627, 0.09803922, 0.11764706],\n",
              "         [0.24313725, 0.34509804, 0.41568627],\n",
              "         [0.29411765, 0.38823529, 0.47058824],\n",
              "         ...,\n",
              "         [0.5372549 , 0.63921569, 0.75686275],\n",
              "         [0.52941176, 0.62352941, 0.74117647],\n",
              "         [0.55686275, 0.61960784, 0.69803922]]],\n",
              "\n",
              "\n",
              "       [[[0.80392157, 0.71372549, 0.65098039],\n",
              "         [0.79607843, 0.72156863, 0.65490196],\n",
              "         [0.78431373, 0.72156863, 0.65490196],\n",
              "         ...,\n",
              "         [0.33333333, 0.29411765, 0.26666667],\n",
              "         [0.3254902 , 0.28235294, 0.25882353],\n",
              "         [0.3254902 , 0.29019608, 0.2745098 ]],\n",
              "\n",
              "        [[0.79607843, 0.72156863, 0.6627451 ],\n",
              "         [0.79215686, 0.7254902 , 0.6627451 ],\n",
              "         [0.79215686, 0.72941176, 0.66666667],\n",
              "         ...,\n",
              "         [0.34117647, 0.30196078, 0.2745098 ],\n",
              "         [0.32941176, 0.29803922, 0.27843137],\n",
              "         [0.09019608, 0.10980392, 0.10588235]],\n",
              "\n",
              "        [[0.8       , 0.7372549 , 0.6745098 ],\n",
              "         [0.80784314, 0.74509804, 0.68235294],\n",
              "         [0.80784314, 0.74509804, 0.68235294],\n",
              "         ...,\n",
              "         [0.32941176, 0.29411765, 0.27843137],\n",
              "         [0.09803922, 0.10196078, 0.10196078],\n",
              "         [0.45882353, 0.43529412, 0.41960784]],\n",
              "\n",
              "        ...,\n",
              "\n",
              "        [[0.09019608, 0.10980392, 0.11764706],\n",
              "         [0.19215686, 0.2       , 0.19215686],\n",
              "         [0.00392157, 0.01176471, 0.02352941],\n",
              "         ...,\n",
              "         [0.18039216, 0.2       , 0.20392157],\n",
              "         [0.10980392, 0.1254902 , 0.1254902 ],\n",
              "         [0.10980392, 0.11764706, 0.11764706]],\n",
              "\n",
              "        [[0.10196078, 0.11372549, 0.10588235],\n",
              "         [0.1254902 , 0.14117647, 0.1372549 ],\n",
              "         [0.03921569, 0.05490196, 0.04313725],\n",
              "         ...,\n",
              "         [0.1254902 , 0.1372549 , 0.13333333],\n",
              "         [0.10588235, 0.12156863, 0.11764706],\n",
              "         [0.10588235, 0.11372549, 0.11764706]],\n",
              "\n",
              "        [[0.05490196, 0.0745098 , 0.0745098 ],\n",
              "         [0.15686275, 0.17647059, 0.16862745],\n",
              "         [0.10196078, 0.1372549 , 0.1254902 ],\n",
              "         ...,\n",
              "         [0.27843137, 0.29019608, 0.27843137],\n",
              "         [0.10196078, 0.10980392, 0.11372549],\n",
              "         [0.10588235, 0.11372549, 0.11372549]]],\n",
              "\n",
              "\n",
              "       [[[0.85882353, 0.8       , 0.68627451],\n",
              "         [0.85490196, 0.80392157, 0.69019608],\n",
              "         [0.8627451 , 0.80784314, 0.69411765],\n",
              "         ...,\n",
              "         [0.85490196, 0.78431373, 0.6627451 ],\n",
              "         [0.85098039, 0.78431373, 0.65490196],\n",
              "         [0.83529412, 0.78039216, 0.63921569]],\n",
              "\n",
              "        [[0.84313725, 0.8       , 0.69019608],\n",
              "         [0.85490196, 0.81176471, 0.70196078],\n",
              "         [0.84705882, 0.80392157, 0.70588235],\n",
              "         ...,\n",
              "         [0.83921569, 0.79215686, 0.65882353],\n",
              "         [0.82745098, 0.78431373, 0.65490196],\n",
              "         [0.83921569, 0.77647059, 0.63529412]],\n",
              "\n",
              "        [[0.68235294, 0.59215686, 0.43529412],\n",
              "         [0.73333333, 0.63921569, 0.45098039],\n",
              "         [0.73333333, 0.63921569, 0.43921569],\n",
              "         ...,\n",
              "         [0.69411765, 0.59607843, 0.42352941],\n",
              "         [0.67843137, 0.56862745, 0.40392157],\n",
              "         [0.6745098 , 0.57254902, 0.4       ]],\n",
              "\n",
              "        ...,\n",
              "\n",
              "        [[0.24705882, 0.40392157, 0.47843137],\n",
              "         [0.03137255, 0.07058824, 0.15294118],\n",
              "         [0.15294118, 0.2627451 , 0.36470588],\n",
              "         ...,\n",
              "         [0.19215686, 0.36078431, 0.49019608],\n",
              "         [0.30980392, 0.40784314, 0.48627451],\n",
              "         [0.32156863, 0.4745098 , 0.57647059]],\n",
              "\n",
              "        [[0.27058824, 0.45490196, 0.61176471],\n",
              "         [0.30196078, 0.39607843, 0.45882353],\n",
              "         [0.12156863, 0.1254902 , 0.18823529],\n",
              "         ...,\n",
              "         [0.0627451 , 0.15294118, 0.25098039],\n",
              "         [0.35686275, 0.45098039, 0.5372549 ],\n",
              "         [0.05098039, 0.08627451, 0.13333333]],\n",
              "\n",
              "        [[0.19215686, 0.39215686, 0.59607843],\n",
              "         [0.0627451 , 0.1372549 , 0.22745098],\n",
              "         [0.17647059, 0.25882353, 0.3372549 ],\n",
              "         ...,\n",
              "         [0.0627451 , 0.09019608, 0.14901961],\n",
              "         [0.48235294, 0.58823529, 0.64705882],\n",
              "         [0.18823529, 0.26666667, 0.29803922]]]])"
            ]
          },
          "metadata": {},
          "execution_count": 13
        }
      ]
    },
    {
      "cell_type": "code",
      "source": [
        "(trainX, testX, trainY, testY) = train_test_split(data, labels, test_size=0.25, random_state=42) # split x & y into 2 parts"
      ],
      "metadata": {
        "id": "QPIKuxqy7hlo"
      },
      "execution_count": 14,
      "outputs": []
    },
    {
      "cell_type": "code",
      "source": [
        "trainX"
      ],
      "metadata": {
        "colab": {
          "base_uri": "https://localhost:8080/"
        },
        "id": "fgjhgAaN9B8Z",
        "outputId": "1afede1c-2ffb-4949-a24b-cc4d3cc87de5"
      },
      "execution_count": 15,
      "outputs": [
        {
          "output_type": "execute_result",
          "data": {
            "text/plain": [
              "array([[[[0.46666667, 0.46666667, 0.46666667],\n",
              "         [0.71764706, 0.71764706, 0.71764706],\n",
              "         [0.37254902, 0.37254902, 0.37254902],\n",
              "         ...,\n",
              "         [0.00784314, 0.00784314, 0.00784314],\n",
              "         [0.51372549, 0.51372549, 0.51372549],\n",
              "         [0.56862745, 0.56862745, 0.56862745]],\n",
              "\n",
              "        [[0.50980392, 0.50980392, 0.50980392],\n",
              "         [0.46666667, 0.46666667, 0.46666667],\n",
              "         [0.54509804, 0.54509804, 0.54509804],\n",
              "         ...,\n",
              "         [0.01960784, 0.01960784, 0.01960784],\n",
              "         [0.50196078, 0.50196078, 0.50196078],\n",
              "         [0.54901961, 0.54901961, 0.54901961]],\n",
              "\n",
              "        [[0.47843137, 0.47843137, 0.47843137],\n",
              "         [0.47843137, 0.47843137, 0.47843137],\n",
              "         [0.53333333, 0.53333333, 0.53333333],\n",
              "         ...,\n",
              "         [0.41176471, 0.41176471, 0.41176471],\n",
              "         [0.7254902 , 0.7254902 , 0.7254902 ],\n",
              "         [0.61176471, 0.61176471, 0.61176471]],\n",
              "\n",
              "        ...,\n",
              "\n",
              "        [[0.36862745, 0.36862745, 0.36862745],\n",
              "         [0.63921569, 0.63921569, 0.63921569],\n",
              "         [0.47058824, 0.47058824, 0.47058824],\n",
              "         ...,\n",
              "         [0.5372549 , 0.5372549 , 0.5372549 ],\n",
              "         [0.46666667, 0.46666667, 0.46666667],\n",
              "         [0.36862745, 0.36862745, 0.36862745]],\n",
              "\n",
              "        [[0.20784314, 0.20784314, 0.20784314],\n",
              "         [0.74117647, 0.74117647, 0.74117647],\n",
              "         [0.5372549 , 0.5372549 , 0.5372549 ],\n",
              "         ...,\n",
              "         [0.54509804, 0.54509804, 0.54509804],\n",
              "         [0.43921569, 0.43921569, 0.43921569],\n",
              "         [0.25882353, 0.25882353, 0.25882353]],\n",
              "\n",
              "        [[0.75686275, 0.75686275, 0.75686275],\n",
              "         [0.62745098, 0.62745098, 0.62745098],\n",
              "         [0.45490196, 0.45490196, 0.45490196],\n",
              "         ...,\n",
              "         [0.52941176, 0.52941176, 0.52941176],\n",
              "         [0.41176471, 0.41176471, 0.41176471],\n",
              "         [0.37647059, 0.37647059, 0.37647059]]],\n",
              "\n",
              "\n",
              "       [[[0.01176471, 0.09019608, 0.19607843],\n",
              "         [0.04705882, 0.14901961, 0.2627451 ],\n",
              "         [0.02745098, 0.14901961, 0.19215686],\n",
              "         ...,\n",
              "         [0.03529412, 0.0745098 , 0.1254902 ],\n",
              "         [0.04313725, 0.08235294, 0.14117647],\n",
              "         [0.01960784, 0.0745098 , 0.12156863]],\n",
              "\n",
              "        [[0.05882353, 0.23921569, 0.36078431],\n",
              "         [0.15294118, 0.29019608, 0.39215686],\n",
              "         [0.0627451 , 0.16078431, 0.16862745],\n",
              "         ...,\n",
              "         [0.03529412, 0.15686275, 0.25098039],\n",
              "         [0.05490196, 0.16078431, 0.22745098],\n",
              "         [0.03529412, 0.03921569, 0.10196078]],\n",
              "\n",
              "        [[0.14901961, 0.35686275, 0.51372549],\n",
              "         [0.14117647, 0.30588235, 0.41176471],\n",
              "         [0.21960784, 0.40392157, 0.38431373],\n",
              "         ...,\n",
              "         [0.18823529, 0.41568627, 0.47843137],\n",
              "         [0.0627451 , 0.29803922, 0.34117647],\n",
              "         [0.0627451 , 0.29019608, 0.34509804]],\n",
              "\n",
              "        ...,\n",
              "\n",
              "        [[0.01960784, 0.0627451 , 0.1254902 ],\n",
              "         [0.01960784, 0.01960784, 0.1254902 ],\n",
              "         [0.01568627, 0.02745098, 0.14509804],\n",
              "         ...,\n",
              "         [0.01960784, 0.01960784, 0.0745098 ],\n",
              "         [0.01960784, 0.01176471, 0.09411765],\n",
              "         [0.00392157, 0.00392157, 0.04313725]],\n",
              "\n",
              "        [[0.00392157, 0.00784314, 0.10980392],\n",
              "         [0.0745098 , 0.09803922, 0.21568627],\n",
              "         [0.03921569, 0.07843137, 0.22352941],\n",
              "         ...,\n",
              "         [0.04313725, 0.04313725, 0.1254902 ],\n",
              "         [0.00392157, 0.00392157, 0.02745098],\n",
              "         [0.00392157, 0.        , 0.01568627]],\n",
              "\n",
              "        [[0.07843137, 0.09019608, 0.24705882],\n",
              "         [0.01568627, 0.04705882, 0.21568627],\n",
              "         [0.12156863, 0.2       , 0.37254902],\n",
              "         ...,\n",
              "         [0.01960784, 0.07058824, 0.10196078],\n",
              "         [0.00392157, 0.01960784, 0.1372549 ],\n",
              "         [0.        , 0.        , 0.03137255]]],\n",
              "\n",
              "\n",
              "       [[[0.34509804, 0.39607843, 0.34509804],\n",
              "         [0.33333333, 0.39215686, 0.36470588],\n",
              "         [0.34509804, 0.42745098, 0.40392157],\n",
              "         ...,\n",
              "         [0.31372549, 0.34117647, 0.5372549 ],\n",
              "         [0.40392157, 0.49411765, 0.60784314],\n",
              "         [0.28627451, 0.41960784, 0.46666667]],\n",
              "\n",
              "        [[0.30196078, 0.31372549, 0.24705882],\n",
              "         [0.28627451, 0.30196078, 0.23529412],\n",
              "         [0.23137255, 0.25098039, 0.20392157],\n",
              "         ...,\n",
              "         [0.30588235, 0.35686275, 0.48627451],\n",
              "         [0.36078431, 0.46666667, 0.55294118],\n",
              "         [0.29019608, 0.41176471, 0.4627451 ]],\n",
              "\n",
              "        [[0.24313725, 0.23529412, 0.14117647],\n",
              "         [0.2745098 , 0.29803922, 0.19607843],\n",
              "         [0.27058824, 0.30980392, 0.25882353],\n",
              "         ...,\n",
              "         [0.28235294, 0.38431373, 0.47843137],\n",
              "         [0.27058824, 0.36862745, 0.46666667],\n",
              "         [0.18431373, 0.29019608, 0.31372549]],\n",
              "\n",
              "        ...,\n",
              "\n",
              "        [[0.07058824, 0.13333333, 0.23921569],\n",
              "         [0.11764706, 0.19215686, 0.26666667],\n",
              "         [0.04313725, 0.05098039, 0.09411765],\n",
              "         ...,\n",
              "         [0.05490196, 0.05882353, 0.05490196],\n",
              "         [0.07058824, 0.07058824, 0.0745098 ],\n",
              "         [0.04313725, 0.03921569, 0.04313725]],\n",
              "\n",
              "        [[0.17647059, 0.27058824, 0.32156863],\n",
              "         [0.07843137, 0.14901961, 0.21176471],\n",
              "         [0.01960784, 0.04313725, 0.0745098 ],\n",
              "         ...,\n",
              "         [0.04313725, 0.03921569, 0.04313725],\n",
              "         [0.07843137, 0.07843137, 0.07843137],\n",
              "         [0.07058824, 0.0745098 , 0.09019608]],\n",
              "\n",
              "        [[0.07058824, 0.14117647, 0.2       ],\n",
              "         [0.06666667, 0.09411765, 0.1254902 ],\n",
              "         [0.09411765, 0.09019608, 0.11372549],\n",
              "         ...,\n",
              "         [0.14117647, 0.13333333, 0.13333333],\n",
              "         [0.24313725, 0.25098039, 0.27843137],\n",
              "         [0.05882353, 0.07058824, 0.08235294]]],\n",
              "\n",
              "\n",
              "       ...,\n",
              "\n",
              "\n",
              "       [[[0.03137255, 0.51372549, 0.47058824],\n",
              "         [0.03921569, 0.54117647, 0.49411765],\n",
              "         [0.07843137, 0.68627451, 0.66666667],\n",
              "         ...,\n",
              "         [0.01176471, 0.53333333, 0.54901961],\n",
              "         [0.01568627, 0.44705882, 0.42352941],\n",
              "         [0.05490196, 0.35686275, 0.4627451 ]],\n",
              "\n",
              "        [[0.12941176, 0.63921569, 0.63529412],\n",
              "         [0.03137255, 0.56862745, 0.56078431],\n",
              "         [0.01568627, 0.31372549, 0.28627451],\n",
              "         ...,\n",
              "         [0.01176471, 0.5254902 , 0.56078431],\n",
              "         [0.0627451 , 0.52941176, 0.55686275],\n",
              "         [0.        , 0.08235294, 0.15294118]],\n",
              "\n",
              "        [[0.11764706, 0.69803922, 0.68627451],\n",
              "         [0.09803922, 0.59607843, 0.6       ],\n",
              "         [0.04313725, 0.50196078, 0.48235294],\n",
              "         ...,\n",
              "         [0.04313725, 0.49019608, 0.55294118],\n",
              "         [0.0745098 , 0.57254902, 0.62352941],\n",
              "         [0.00784314, 0.08235294, 0.14509804]],\n",
              "\n",
              "        ...,\n",
              "\n",
              "        [[0.00784314, 0.2627451 , 0.41568627],\n",
              "         [0.02745098, 0.43921569, 0.58823529],\n",
              "         [0.00784314, 0.23529412, 0.42352941],\n",
              "         ...,\n",
              "         [0.        , 0.02745098, 0.04705882],\n",
              "         [0.05490196, 0.14509804, 0.2627451 ],\n",
              "         [0.02745098, 0.09803922, 0.19607843]],\n",
              "\n",
              "        [[0.05882353, 0.25098039, 0.34509804],\n",
              "         [0.02745098, 0.38039216, 0.54901961],\n",
              "         [0.05882353, 0.40392157, 0.59607843],\n",
              "         ...,\n",
              "         [0.01176471, 0.10196078, 0.2627451 ],\n",
              "         [0.01176471, 0.10980392, 0.22745098],\n",
              "         [0.03137255, 0.34117647, 0.49019608]],\n",
              "\n",
              "        [[0.09803922, 0.38823529, 0.57254902],\n",
              "         [0.04313725, 0.21960784, 0.36862745],\n",
              "         [0.03529412, 0.21176471, 0.31764706],\n",
              "         ...,\n",
              "         [0.00392157, 0.00392157, 0.04705882],\n",
              "         [0.05490196, 0.16470588, 0.29411765],\n",
              "         [0.01568627, 0.02352941, 0.05882353]]],\n",
              "\n",
              "\n",
              "       [[[0.35686275, 0.40784314, 0.43921569],\n",
              "         [0.37254902, 0.43921569, 0.47058824],\n",
              "         [0.12941176, 0.14509804, 0.14901961],\n",
              "         ...,\n",
              "         [0.23529412, 0.25882353, 0.28627451],\n",
              "         [0.24313725, 0.28627451, 0.29019608],\n",
              "         [0.21960784, 0.22352941, 0.24705882]],\n",
              "\n",
              "        [[0.2745098 , 0.31764706, 0.34117647],\n",
              "         [0.32941176, 0.4       , 0.43529412],\n",
              "         [0.15686275, 0.17254902, 0.18431373],\n",
              "         ...,\n",
              "         [0.34509804, 0.37647059, 0.39215686],\n",
              "         [0.36470588, 0.40784314, 0.41568627],\n",
              "         [0.39607843, 0.42352941, 0.43921569]],\n",
              "\n",
              "        [[0.14901961, 0.18823529, 0.21568627],\n",
              "         [0.18431373, 0.2627451 , 0.29803922],\n",
              "         [0.1254902 , 0.14117647, 0.14509804],\n",
              "         ...,\n",
              "         [0.19215686, 0.22352941, 0.22352941],\n",
              "         [0.18823529, 0.23137255, 0.23921569],\n",
              "         [0.21176471, 0.20392157, 0.21176471]],\n",
              "\n",
              "        ...,\n",
              "\n",
              "        [[0.22745098, 0.2627451 , 0.31372549],\n",
              "         [0.45882353, 0.52156863, 0.56862745],\n",
              "         [0.23137255, 0.29411765, 0.34117647],\n",
              "         ...,\n",
              "         [0.01176471, 0.01176471, 0.03137255],\n",
              "         [0.48627451, 0.58431373, 0.6745098 ],\n",
              "         [0.58039216, 0.65490196, 0.7372549 ]],\n",
              "\n",
              "        [[0.2745098 , 0.32941176, 0.38039216],\n",
              "         [0.44705882, 0.49411765, 0.55294118],\n",
              "         [0.30588235, 0.36078431, 0.40784314],\n",
              "         ...,\n",
              "         [0.32941176, 0.4       , 0.45098039],\n",
              "         [0.29411765, 0.3372549 , 0.41176471],\n",
              "         [0.16862745, 0.19215686, 0.22745098]],\n",
              "\n",
              "        [[0.22352941, 0.25882353, 0.30980392],\n",
              "         [0.24313725, 0.29411765, 0.3372549 ],\n",
              "         [0.38431373, 0.43921569, 0.51372549],\n",
              "         ...,\n",
              "         [0.4       , 0.4627451 , 0.50980392],\n",
              "         [0.2       , 0.25882353, 0.30980392],\n",
              "         [0.27058824, 0.33333333, 0.38431373]]],\n",
              "\n",
              "\n",
              "       [[[0.00392157, 0.05490196, 0.02352941],\n",
              "         [0.08235294, 0.4627451 , 0.35294118],\n",
              "         [0.3254902 , 0.70196078, 0.60392157],\n",
              "         ...,\n",
              "         [0.04313725, 0.16862745, 0.11764706],\n",
              "         [0.02352941, 0.21568627, 0.09019608],\n",
              "         [0.48235294, 0.58039216, 0.47058824]],\n",
              "\n",
              "        [[0.05882353, 0.25882353, 0.21176471],\n",
              "         [0.14117647, 0.42352941, 0.39215686],\n",
              "         [0.31764706, 0.70980392, 0.64705882],\n",
              "         ...,\n",
              "         [0.        , 0.08627451, 0.0627451 ],\n",
              "         [0.04313725, 0.32941176, 0.20784314],\n",
              "         [0.07843137, 0.36470588, 0.22745098]],\n",
              "\n",
              "        [[0.05882353, 0.23137255, 0.18039216],\n",
              "         [0.06666667, 0.23529412, 0.19215686],\n",
              "         [0.01568627, 0.36862745, 0.2627451 ],\n",
              "         ...,\n",
              "         [0.0745098 , 0.15686275, 0.12156863],\n",
              "         [0.56078431, 0.69019608, 0.57647059],\n",
              "         [0.00392157, 0.23529412, 0.10980392]],\n",
              "\n",
              "        ...,\n",
              "\n",
              "        [[0.04705882, 0.13333333, 0.09019608],\n",
              "         [0.02352941, 0.10588235, 0.10196078],\n",
              "         [0.10196078, 0.23921569, 0.19607843],\n",
              "         ...,\n",
              "         [0.10196078, 0.20392157, 0.23529412],\n",
              "         [0.16470588, 0.25490196, 0.30980392],\n",
              "         [0.09803922, 0.18823529, 0.24705882]],\n",
              "\n",
              "        [[0.00784314, 0.04705882, 0.0745098 ],\n",
              "         [0.0745098 , 0.12156863, 0.14509804],\n",
              "         [0.11372549, 0.18431373, 0.17254902],\n",
              "         ...,\n",
              "         [0.15294118, 0.21568627, 0.25490196],\n",
              "         [0.12156863, 0.17254902, 0.2       ],\n",
              "         [0.15686275, 0.21176471, 0.25882353]],\n",
              "\n",
              "        [[0.10980392, 0.17647059, 0.18431373],\n",
              "         [0.10588235, 0.18431373, 0.19215686],\n",
              "         [0.05882353, 0.1254902 , 0.1372549 ],\n",
              "         ...,\n",
              "         [0.03529412, 0.0745098 , 0.09803922],\n",
              "         [0.0627451 , 0.10196078, 0.12941176],\n",
              "         [0.14117647, 0.19215686, 0.22352941]]]])"
            ]
          },
          "metadata": {},
          "execution_count": 15
        }
      ]
    },
    {
      "cell_type": "code",
      "source": [
        "trainX.shape  # 994 training rows, all images are of same shape & same size, there are 3 classes"
      ],
      "metadata": {
        "colab": {
          "base_uri": "https://localhost:8080/"
        },
        "id": "Wu2o24Q49Khv",
        "outputId": "24ed7536-38b2-4801-ba0a-bf3de78505e3"
      },
      "execution_count": 16,
      "outputs": [
        {
          "output_type": "execute_result",
          "data": {
            "text/plain": [
              "(994, 28, 28, 3)"
            ]
          },
          "metadata": {},
          "execution_count": 16
        }
      ]
    },
    {
      "cell_type": "code",
      "source": [
        "trainY.shape"
      ],
      "metadata": {
        "colab": {
          "base_uri": "https://localhost:8080/"
        },
        "id": "GMscCUTn9RgV",
        "outputId": "3f0a1106-abbc-439a-fa50-0f54c39d9bfd"
      },
      "execution_count": 17,
      "outputs": [
        {
          "output_type": "execute_result",
          "data": {
            "text/plain": [
              "(994,)"
            ]
          },
          "metadata": {},
          "execution_count": 17
        }
      ]
    },
    {
      "cell_type": "code",
      "source": [
        "trainY = to_categorical(trainY, num_classes=3)  # convert integers into binary values\n",
        "testY = to_categorical(testY, num_classes=3)"
      ],
      "metadata": {
        "id": "d1C1J5oj9b8V"
      },
      "execution_count": 18,
      "outputs": []
    },
    {
      "cell_type": "code",
      "source": [
        "trainY"
      ],
      "metadata": {
        "colab": {
          "base_uri": "https://localhost:8080/"
        },
        "id": "6GNJIppk9g9R",
        "outputId": "b382d4dc-4fcd-48d9-a22b-c54da3e2de08"
      },
      "execution_count": 19,
      "outputs": [
        {
          "output_type": "execute_result",
          "data": {
            "text/plain": [
              "array([[1., 0., 0.],\n",
              "       [0., 1., 0.],\n",
              "       [0., 1., 0.],\n",
              "       ...,\n",
              "       [0., 1., 0.],\n",
              "       [0., 1., 0.],\n",
              "       [0., 1., 0.]])"
            ]
          },
          "metadata": {},
          "execution_count": 19
        }
      ]
    },
    {
      "cell_type": "code",
      "source": [
        "trainY[0]"
      ],
      "metadata": {
        "colab": {
          "base_uri": "https://localhost:8080/"
        },
        "id": "YUjOzpbD9ii7",
        "outputId": "10d78434-be23-49e6-da6c-f34e16dbdce7"
      },
      "execution_count": 20,
      "outputs": [
        {
          "output_type": "execute_result",
          "data": {
            "text/plain": [
              "array([1., 0., 0.])"
            ]
          },
          "metadata": {},
          "execution_count": 20
        }
      ]
    },
    {
      "cell_type": "code",
      "source": [
        "# generate more no. of images to get the sufficient data for training the model using data augmentation\n",
        "aug = ImageDataGenerator(rotation_range=30,\n",
        "                         width_shift_range=0.1,\n",
        "                         height_shift_range=0.1,\n",
        "                         shear_range=0.2,\n",
        "                         zoom_range=0.2,\n",
        "                         horizontal_flip=True,\n",
        "                         fill_mode=\"nearest\")"
      ],
      "metadata": {
        "id": "8Cpxz4gZ92ms"
      },
      "execution_count": 21,
      "outputs": []
    },
    {
      "cell_type": "code",
      "source": [
        "# initialize the model\n",
        "print(\"[INFO] compiling model...\")\n",
        "model = LeNet.build(width=28, height=28, depth=3, classes=3) # again define the model using LeNet class\n",
        "opt = Adam() # it is an optimizer to check the difference between actual & predicted values\n",
        "model.compile(loss=\"categorical_crossentropy\", optimizer=opt, metrics=[\"accuracy\"])  # compile the CNN model\n",
        "\n",
        "print(\"[INFO] model complied...\")"
      ],
      "metadata": {
        "colab": {
          "base_uri": "https://localhost:8080/"
        },
        "id": "KK9Vkvo_-aFX",
        "outputId": "51164f23-d10d-49ac-e547-c82d1a7127d7"
      },
      "execution_count": 22,
      "outputs": [
        {
          "output_type": "stream",
          "name": "stdout",
          "text": [
            "[INFO] compiling model...\n",
            "[INFO] model complied...\n"
          ]
        }
      ]
    },
    {
      "cell_type": "code",
      "source": [
        "print(model.summary())  # model summary"
      ],
      "metadata": {
        "colab": {
          "base_uri": "https://localhost:8080/",
          "height": 498
        },
        "id": "IevXPfIB_FXh",
        "outputId": "699aa504-3d66-43ba-c732-b893c87bd0e2"
      },
      "execution_count": 23,
      "outputs": [
        {
          "output_type": "display_data",
          "data": {
            "text/plain": [
              "\u001b[1mModel: \"sequential\"\u001b[0m\n"
            ],
            "text/html": [
              "<pre style=\"white-space:pre;overflow-x:auto;line-height:normal;font-family:Menlo,'DejaVu Sans Mono',consolas,'Courier New',monospace\"><span style=\"font-weight: bold\">Model: \"sequential\"</span>\n",
              "</pre>\n"
            ]
          },
          "metadata": {}
        },
        {
          "output_type": "display_data",
          "data": {
            "text/plain": [
              "┏━━━━━━━━━━━━━━━━━━━━━━━━━━━━━━━━━━━━━━┳━━━━━━━━━━━━━━━━━━━━━━━━━━━━━┳━━━━━━━━━━━━━━━━━┓\n",
              "┃\u001b[1m \u001b[0m\u001b[1mLayer (type)                        \u001b[0m\u001b[1m \u001b[0m┃\u001b[1m \u001b[0m\u001b[1mOutput Shape               \u001b[0m\u001b[1m \u001b[0m┃\u001b[1m \u001b[0m\u001b[1m        Param #\u001b[0m\u001b[1m \u001b[0m┃\n",
              "┡━━━━━━━━━━━━━━━━━━━━━━━━━━━━━━━━━━━━━━╇━━━━━━━━━━━━━━━━━━━━━━━━━━━━━╇━━━━━━━━━━━━━━━━━┩\n",
              "│ conv2d (\u001b[38;5;33mConv2D\u001b[0m)                      │ (\u001b[38;5;45mNone\u001b[0m, \u001b[38;5;34m28\u001b[0m, \u001b[38;5;34m28\u001b[0m, \u001b[38;5;34m20\u001b[0m)          │           \u001b[38;5;34m1,520\u001b[0m │\n",
              "├──────────────────────────────────────┼─────────────────────────────┼─────────────────┤\n",
              "│ activation (\u001b[38;5;33mActivation\u001b[0m)              │ (\u001b[38;5;45mNone\u001b[0m, \u001b[38;5;34m28\u001b[0m, \u001b[38;5;34m28\u001b[0m, \u001b[38;5;34m20\u001b[0m)          │               \u001b[38;5;34m0\u001b[0m │\n",
              "├──────────────────────────────────────┼─────────────────────────────┼─────────────────┤\n",
              "│ max_pooling2d (\u001b[38;5;33mMaxPooling2D\u001b[0m)         │ (\u001b[38;5;45mNone\u001b[0m, \u001b[38;5;34m14\u001b[0m, \u001b[38;5;34m14\u001b[0m, \u001b[38;5;34m20\u001b[0m)          │               \u001b[38;5;34m0\u001b[0m │\n",
              "├──────────────────────────────────────┼─────────────────────────────┼─────────────────┤\n",
              "│ conv2d_1 (\u001b[38;5;33mConv2D\u001b[0m)                    │ (\u001b[38;5;45mNone\u001b[0m, \u001b[38;5;34m14\u001b[0m, \u001b[38;5;34m14\u001b[0m, \u001b[38;5;34m50\u001b[0m)          │          \u001b[38;5;34m25,050\u001b[0m │\n",
              "├──────────────────────────────────────┼─────────────────────────────┼─────────────────┤\n",
              "│ activation_1 (\u001b[38;5;33mActivation\u001b[0m)            │ (\u001b[38;5;45mNone\u001b[0m, \u001b[38;5;34m14\u001b[0m, \u001b[38;5;34m14\u001b[0m, \u001b[38;5;34m50\u001b[0m)          │               \u001b[38;5;34m0\u001b[0m │\n",
              "├──────────────────────────────────────┼─────────────────────────────┼─────────────────┤\n",
              "│ max_pooling2d_1 (\u001b[38;5;33mMaxPooling2D\u001b[0m)       │ (\u001b[38;5;45mNone\u001b[0m, \u001b[38;5;34m7\u001b[0m, \u001b[38;5;34m7\u001b[0m, \u001b[38;5;34m50\u001b[0m)            │               \u001b[38;5;34m0\u001b[0m │\n",
              "├──────────────────────────────────────┼─────────────────────────────┼─────────────────┤\n",
              "│ flatten (\u001b[38;5;33mFlatten\u001b[0m)                    │ (\u001b[38;5;45mNone\u001b[0m, \u001b[38;5;34m2450\u001b[0m)                │               \u001b[38;5;34m0\u001b[0m │\n",
              "├──────────────────────────────────────┼─────────────────────────────┼─────────────────┤\n",
              "│ dense (\u001b[38;5;33mDense\u001b[0m)                        │ (\u001b[38;5;45mNone\u001b[0m, \u001b[38;5;34m500\u001b[0m)                 │       \u001b[38;5;34m1,225,500\u001b[0m │\n",
              "├──────────────────────────────────────┼─────────────────────────────┼─────────────────┤\n",
              "│ activation_2 (\u001b[38;5;33mActivation\u001b[0m)            │ (\u001b[38;5;45mNone\u001b[0m, \u001b[38;5;34m500\u001b[0m)                 │               \u001b[38;5;34m0\u001b[0m │\n",
              "├──────────────────────────────────────┼─────────────────────────────┼─────────────────┤\n",
              "│ dense_1 (\u001b[38;5;33mDense\u001b[0m)                      │ (\u001b[38;5;45mNone\u001b[0m, \u001b[38;5;34m3\u001b[0m)                   │           \u001b[38;5;34m1,503\u001b[0m │\n",
              "├──────────────────────────────────────┼─────────────────────────────┼─────────────────┤\n",
              "│ activation_3 (\u001b[38;5;33mActivation\u001b[0m)            │ (\u001b[38;5;45mNone\u001b[0m, \u001b[38;5;34m3\u001b[0m)                   │               \u001b[38;5;34m0\u001b[0m │\n",
              "└──────────────────────────────────────┴─────────────────────────────┴─────────────────┘\n"
            ],
            "text/html": [
              "<pre style=\"white-space:pre;overflow-x:auto;line-height:normal;font-family:Menlo,'DejaVu Sans Mono',consolas,'Courier New',monospace\">┏━━━━━━━━━━━━━━━━━━━━━━━━━━━━━━━━━━━━━━┳━━━━━━━━━━━━━━━━━━━━━━━━━━━━━┳━━━━━━━━━━━━━━━━━┓\n",
              "┃<span style=\"font-weight: bold\"> Layer (type)                         </span>┃<span style=\"font-weight: bold\"> Output Shape                </span>┃<span style=\"font-weight: bold\">         Param # </span>┃\n",
              "┡━━━━━━━━━━━━━━━━━━━━━━━━━━━━━━━━━━━━━━╇━━━━━━━━━━━━━━━━━━━━━━━━━━━━━╇━━━━━━━━━━━━━━━━━┩\n",
              "│ conv2d (<span style=\"color: #0087ff; text-decoration-color: #0087ff\">Conv2D</span>)                      │ (<span style=\"color: #00d7ff; text-decoration-color: #00d7ff\">None</span>, <span style=\"color: #00af00; text-decoration-color: #00af00\">28</span>, <span style=\"color: #00af00; text-decoration-color: #00af00\">28</span>, <span style=\"color: #00af00; text-decoration-color: #00af00\">20</span>)          │           <span style=\"color: #00af00; text-decoration-color: #00af00\">1,520</span> │\n",
              "├──────────────────────────────────────┼─────────────────────────────┼─────────────────┤\n",
              "│ activation (<span style=\"color: #0087ff; text-decoration-color: #0087ff\">Activation</span>)              │ (<span style=\"color: #00d7ff; text-decoration-color: #00d7ff\">None</span>, <span style=\"color: #00af00; text-decoration-color: #00af00\">28</span>, <span style=\"color: #00af00; text-decoration-color: #00af00\">28</span>, <span style=\"color: #00af00; text-decoration-color: #00af00\">20</span>)          │               <span style=\"color: #00af00; text-decoration-color: #00af00\">0</span> │\n",
              "├──────────────────────────────────────┼─────────────────────────────┼─────────────────┤\n",
              "│ max_pooling2d (<span style=\"color: #0087ff; text-decoration-color: #0087ff\">MaxPooling2D</span>)         │ (<span style=\"color: #00d7ff; text-decoration-color: #00d7ff\">None</span>, <span style=\"color: #00af00; text-decoration-color: #00af00\">14</span>, <span style=\"color: #00af00; text-decoration-color: #00af00\">14</span>, <span style=\"color: #00af00; text-decoration-color: #00af00\">20</span>)          │               <span style=\"color: #00af00; text-decoration-color: #00af00\">0</span> │\n",
              "├──────────────────────────────────────┼─────────────────────────────┼─────────────────┤\n",
              "│ conv2d_1 (<span style=\"color: #0087ff; text-decoration-color: #0087ff\">Conv2D</span>)                    │ (<span style=\"color: #00d7ff; text-decoration-color: #00d7ff\">None</span>, <span style=\"color: #00af00; text-decoration-color: #00af00\">14</span>, <span style=\"color: #00af00; text-decoration-color: #00af00\">14</span>, <span style=\"color: #00af00; text-decoration-color: #00af00\">50</span>)          │          <span style=\"color: #00af00; text-decoration-color: #00af00\">25,050</span> │\n",
              "├──────────────────────────────────────┼─────────────────────────────┼─────────────────┤\n",
              "│ activation_1 (<span style=\"color: #0087ff; text-decoration-color: #0087ff\">Activation</span>)            │ (<span style=\"color: #00d7ff; text-decoration-color: #00d7ff\">None</span>, <span style=\"color: #00af00; text-decoration-color: #00af00\">14</span>, <span style=\"color: #00af00; text-decoration-color: #00af00\">14</span>, <span style=\"color: #00af00; text-decoration-color: #00af00\">50</span>)          │               <span style=\"color: #00af00; text-decoration-color: #00af00\">0</span> │\n",
              "├──────────────────────────────────────┼─────────────────────────────┼─────────────────┤\n",
              "│ max_pooling2d_1 (<span style=\"color: #0087ff; text-decoration-color: #0087ff\">MaxPooling2D</span>)       │ (<span style=\"color: #00d7ff; text-decoration-color: #00d7ff\">None</span>, <span style=\"color: #00af00; text-decoration-color: #00af00\">7</span>, <span style=\"color: #00af00; text-decoration-color: #00af00\">7</span>, <span style=\"color: #00af00; text-decoration-color: #00af00\">50</span>)            │               <span style=\"color: #00af00; text-decoration-color: #00af00\">0</span> │\n",
              "├──────────────────────────────────────┼─────────────────────────────┼─────────────────┤\n",
              "│ flatten (<span style=\"color: #0087ff; text-decoration-color: #0087ff\">Flatten</span>)                    │ (<span style=\"color: #00d7ff; text-decoration-color: #00d7ff\">None</span>, <span style=\"color: #00af00; text-decoration-color: #00af00\">2450</span>)                │               <span style=\"color: #00af00; text-decoration-color: #00af00\">0</span> │\n",
              "├──────────────────────────────────────┼─────────────────────────────┼─────────────────┤\n",
              "│ dense (<span style=\"color: #0087ff; text-decoration-color: #0087ff\">Dense</span>)                        │ (<span style=\"color: #00d7ff; text-decoration-color: #00d7ff\">None</span>, <span style=\"color: #00af00; text-decoration-color: #00af00\">500</span>)                 │       <span style=\"color: #00af00; text-decoration-color: #00af00\">1,225,500</span> │\n",
              "├──────────────────────────────────────┼─────────────────────────────┼─────────────────┤\n",
              "│ activation_2 (<span style=\"color: #0087ff; text-decoration-color: #0087ff\">Activation</span>)            │ (<span style=\"color: #00d7ff; text-decoration-color: #00d7ff\">None</span>, <span style=\"color: #00af00; text-decoration-color: #00af00\">500</span>)                 │               <span style=\"color: #00af00; text-decoration-color: #00af00\">0</span> │\n",
              "├──────────────────────────────────────┼─────────────────────────────┼─────────────────┤\n",
              "│ dense_1 (<span style=\"color: #0087ff; text-decoration-color: #0087ff\">Dense</span>)                      │ (<span style=\"color: #00d7ff; text-decoration-color: #00d7ff\">None</span>, <span style=\"color: #00af00; text-decoration-color: #00af00\">3</span>)                   │           <span style=\"color: #00af00; text-decoration-color: #00af00\">1,503</span> │\n",
              "├──────────────────────────────────────┼─────────────────────────────┼─────────────────┤\n",
              "│ activation_3 (<span style=\"color: #0087ff; text-decoration-color: #0087ff\">Activation</span>)            │ (<span style=\"color: #00d7ff; text-decoration-color: #00d7ff\">None</span>, <span style=\"color: #00af00; text-decoration-color: #00af00\">3</span>)                   │               <span style=\"color: #00af00; text-decoration-color: #00af00\">0</span> │\n",
              "└──────────────────────────────────────┴─────────────────────────────┴─────────────────┘\n",
              "</pre>\n"
            ]
          },
          "metadata": {}
        },
        {
          "output_type": "display_data",
          "data": {
            "text/plain": [
              "\u001b[1m Total params: \u001b[0m\u001b[38;5;34m1,253,573\u001b[0m (4.78 MB)\n"
            ],
            "text/html": [
              "<pre style=\"white-space:pre;overflow-x:auto;line-height:normal;font-family:Menlo,'DejaVu Sans Mono',consolas,'Courier New',monospace\"><span style=\"font-weight: bold\"> Total params: </span><span style=\"color: #00af00; text-decoration-color: #00af00\">1,253,573</span> (4.78 MB)\n",
              "</pre>\n"
            ]
          },
          "metadata": {}
        },
        {
          "output_type": "display_data",
          "data": {
            "text/plain": [
              "\u001b[1m Trainable params: \u001b[0m\u001b[38;5;34m1,253,573\u001b[0m (4.78 MB)\n"
            ],
            "text/html": [
              "<pre style=\"white-space:pre;overflow-x:auto;line-height:normal;font-family:Menlo,'DejaVu Sans Mono',consolas,'Courier New',monospace\"><span style=\"font-weight: bold\"> Trainable params: </span><span style=\"color: #00af00; text-decoration-color: #00af00\">1,253,573</span> (4.78 MB)\n",
              "</pre>\n"
            ]
          },
          "metadata": {}
        },
        {
          "output_type": "display_data",
          "data": {
            "text/plain": [
              "\u001b[1m Non-trainable params: \u001b[0m\u001b[38;5;34m0\u001b[0m (0.00 B)\n"
            ],
            "text/html": [
              "<pre style=\"white-space:pre;overflow-x:auto;line-height:normal;font-family:Menlo,'DejaVu Sans Mono',consolas,'Courier New',monospace\"><span style=\"font-weight: bold\"> Non-trainable params: </span><span style=\"color: #00af00; text-decoration-color: #00af00\">0</span> (0.00 B)\n",
              "</pre>\n"
            ]
          },
          "metadata": {}
        },
        {
          "output_type": "stream",
          "name": "stdout",
          "text": [
            "None\n"
          ]
        }
      ]
    },
    {
      "cell_type": "code",
      "source": [
        "# train the network\n",
        "print(\"[INFO] training network...\")\n",
        "H = model.fit(x=aug.flow(trainX, trainY, batch_size=BS),\n",
        "              validation_data=(testX, testY),\n",
        "              steps_per_epoch=len(trainX) // BS,\n",
        "              epochs=EPOCHS,\n",
        "              verbose=1)"
      ],
      "metadata": {
        "colab": {
          "base_uri": "https://localhost:8080/"
        },
        "id": "WGjakcp3_bHA",
        "outputId": "5add1661-d22c-4f5f-e9be-54994b29225a"
      },
      "execution_count": 24,
      "outputs": [
        {
          "output_type": "stream",
          "name": "stdout",
          "text": [
            "[INFO] training network...\n",
            "Epoch 1/25\n",
            "\u001b[1m31/31\u001b[0m \u001b[32m━━━━━━━━━━━━━━━━━━━━\u001b[0m\u001b[37m\u001b[0m \u001b[1m11s\u001b[0m 264ms/step - accuracy: 0.4263 - loss: 1.0756 - val_accuracy: 0.7018 - val_loss: 0.6607\n",
            "Epoch 2/25\n",
            "\u001b[1m31/31\u001b[0m \u001b[32m━━━━━━━━━━━━━━━━━━━━\u001b[0m\u001b[37m\u001b[0m \u001b[1m1s\u001b[0m 13ms/step - accuracy: 0.7188 - loss: 0.7071 - val_accuracy: 0.6867 - val_loss: 0.7336\n",
            "Epoch 3/25\n",
            "\u001b[1m31/31\u001b[0m \u001b[32m━━━━━━━━━━━━━━━━━━━━\u001b[0m\u001b[37m\u001b[0m \u001b[1m7s\u001b[0m 171ms/step - accuracy: 0.6323 - loss: 0.8332 - val_accuracy: 0.7289 - val_loss: 0.6028\n",
            "Epoch 4/25\n",
            "\u001b[1m31/31\u001b[0m \u001b[32m━━━━━━━━━━━━━━━━━━━━\u001b[0m\u001b[37m\u001b[0m \u001b[1m0s\u001b[0m 13ms/step - accuracy: 0.7500 - loss: 0.7261 - val_accuracy: 0.7651 - val_loss: 0.5432\n",
            "Epoch 5/25\n",
            "\u001b[1m31/31\u001b[0m \u001b[32m━━━━━━━━━━━━━━━━━━━━\u001b[0m\u001b[37m\u001b[0m \u001b[1m11s\u001b[0m 212ms/step - accuracy: 0.7022 - loss: 0.6848 - val_accuracy: 0.7771 - val_loss: 0.5066\n",
            "Epoch 6/25\n",
            "\u001b[1m31/31\u001b[0m \u001b[32m━━━━━━━━━━━━━━━━━━━━\u001b[0m\u001b[37m\u001b[0m \u001b[1m1s\u001b[0m 23ms/step - accuracy: 0.7812 - loss: 0.7654 - val_accuracy: 0.8012 - val_loss: 0.4942\n",
            "Epoch 7/25\n",
            "\u001b[1m31/31\u001b[0m \u001b[32m━━━━━━━━━━━━━━━━━━━━\u001b[0m\u001b[37m\u001b[0m \u001b[1m3s\u001b[0m 89ms/step - accuracy: 0.7135 - loss: 0.7183 - val_accuracy: 0.8102 - val_loss: 0.5100\n",
            "Epoch 8/25\n",
            "\u001b[1m31/31\u001b[0m \u001b[32m━━━━━━━━━━━━━━━━━━━━\u001b[0m\u001b[37m\u001b[0m \u001b[1m0s\u001b[0m 8ms/step - accuracy: 0.7812 - loss: 0.4597 - val_accuracy: 0.8163 - val_loss: 0.5065\n",
            "Epoch 9/25\n",
            "\u001b[1m31/31\u001b[0m \u001b[32m━━━━━━━━━━━━━━━━━━━━\u001b[0m\u001b[37m\u001b[0m \u001b[1m5s\u001b[0m 115ms/step - accuracy: 0.7243 - loss: 0.6408 - val_accuracy: 0.7229 - val_loss: 0.6028\n",
            "Epoch 10/25\n",
            "\u001b[1m31/31\u001b[0m \u001b[32m━━━━━━━━━━━━━━━━━━━━\u001b[0m\u001b[37m\u001b[0m \u001b[1m0s\u001b[0m 13ms/step - accuracy: 0.6875 - loss: 0.5625 - val_accuracy: 0.7410 - val_loss: 0.5743\n",
            "Epoch 11/25\n",
            "\u001b[1m31/31\u001b[0m \u001b[32m━━━━━━━━━━━━━━━━━━━━\u001b[0m\u001b[37m\u001b[0m \u001b[1m4s\u001b[0m 82ms/step - accuracy: 0.7839 - loss: 0.5542 - val_accuracy: 0.8313 - val_loss: 0.4102\n",
            "Epoch 12/25\n",
            "\u001b[1m31/31\u001b[0m \u001b[32m━━━━━━━━━━━━━━━━━━━━\u001b[0m\u001b[37m\u001b[0m \u001b[1m0s\u001b[0m 7ms/step - accuracy: 0.8438 - loss: 0.5485 - val_accuracy: 0.8102 - val_loss: 0.4512\n",
            "Epoch 13/25\n",
            "\u001b[1m31/31\u001b[0m \u001b[32m━━━━━━━━━━━━━━━━━━━━\u001b[0m\u001b[37m\u001b[0m \u001b[1m3s\u001b[0m 86ms/step - accuracy: 0.7672 - loss: 0.5609 - val_accuracy: 0.7922 - val_loss: 0.4933\n",
            "Epoch 14/25\n",
            "\u001b[1m31/31\u001b[0m \u001b[32m━━━━━━━━━━━━━━━━━━━━\u001b[0m\u001b[37m\u001b[0m \u001b[1m1s\u001b[0m 22ms/step - accuracy: 0.7500 - loss: 0.5712 - val_accuracy: 0.8584 - val_loss: 0.4044\n",
            "Epoch 15/25\n",
            "\u001b[1m31/31\u001b[0m \u001b[32m━━━━━━━━━━━━━━━━━━━━\u001b[0m\u001b[37m\u001b[0m \u001b[1m5s\u001b[0m 111ms/step - accuracy: 0.7730 - loss: 0.5067 - val_accuracy: 0.7560 - val_loss: 0.5823\n",
            "Epoch 16/25\n",
            "\u001b[1m31/31\u001b[0m \u001b[32m━━━━━━━━━━━━━━━━━━━━\u001b[0m\u001b[37m\u001b[0m \u001b[1m0s\u001b[0m 12ms/step - accuracy: 0.8125 - loss: 0.3853 - val_accuracy: 0.7259 - val_loss: 0.6861\n",
            "Epoch 17/25\n",
            "\u001b[1m31/31\u001b[0m \u001b[32m━━━━━━━━━━━━━━━━━━━━\u001b[0m\u001b[37m\u001b[0m \u001b[1m4s\u001b[0m 100ms/step - accuracy: 0.8119 - loss: 0.4618 - val_accuracy: 0.8313 - val_loss: 0.4291\n",
            "Epoch 18/25\n",
            "\u001b[1m31/31\u001b[0m \u001b[32m━━━━━━━━━━━━━━━━━━━━\u001b[0m\u001b[37m\u001b[0m \u001b[1m0s\u001b[0m 7ms/step - accuracy: 0.8438 - loss: 0.5539 - val_accuracy: 0.8464 - val_loss: 0.4133\n",
            "Epoch 19/25\n",
            "\u001b[1m31/31\u001b[0m \u001b[32m━━━━━━━━━━━━━━━━━━━━\u001b[0m\u001b[37m\u001b[0m \u001b[1m3s\u001b[0m 84ms/step - accuracy: 0.8269 - loss: 0.4391 - val_accuracy: 0.8223 - val_loss: 0.4332\n",
            "Epoch 20/25\n",
            "\u001b[1m31/31\u001b[0m \u001b[32m━━━━━━━━━━━━━━━━━━━━\u001b[0m\u001b[37m\u001b[0m \u001b[1m0s\u001b[0m 7ms/step - accuracy: 0.7812 - loss: 0.6972 - val_accuracy: 0.8464 - val_loss: 0.4124\n",
            "Epoch 21/25\n",
            "\u001b[1m31/31\u001b[0m \u001b[32m━━━━━━━━━━━━━━━━━━━━\u001b[0m\u001b[37m\u001b[0m \u001b[1m3s\u001b[0m 87ms/step - accuracy: 0.8164 - loss: 0.4679 - val_accuracy: 0.7289 - val_loss: 0.6751\n",
            "Epoch 22/25\n",
            "\u001b[1m31/31\u001b[0m \u001b[32m━━━━━━━━━━━━━━━━━━━━\u001b[0m\u001b[37m\u001b[0m \u001b[1m0s\u001b[0m 8ms/step - accuracy: 0.7812 - loss: 0.5037 - val_accuracy: 0.7861 - val_loss: 0.5227\n",
            "Epoch 23/25\n",
            "\u001b[1m31/31\u001b[0m \u001b[32m━━━━━━━━━━━━━━━━━━━━\u001b[0m\u001b[37m\u001b[0m \u001b[1m4s\u001b[0m 116ms/step - accuracy: 0.8088 - loss: 0.4915 - val_accuracy: 0.8313 - val_loss: 0.4594\n",
            "Epoch 24/25\n",
            "\u001b[1m31/31\u001b[0m \u001b[32m━━━━━━━━━━━━━━━━━━━━\u001b[0m\u001b[37m\u001b[0m \u001b[1m1s\u001b[0m 15ms/step - accuracy: 0.7812 - loss: 0.4689 - val_accuracy: 0.6988 - val_loss: 0.7654\n",
            "Epoch 25/25\n",
            "\u001b[1m31/31\u001b[0m \u001b[32m━━━━━━━━━━━━━━━━━━━━\u001b[0m\u001b[37m\u001b[0m \u001b[1m4s\u001b[0m 113ms/step - accuracy: 0.8143 - loss: 0.4819 - val_accuracy: 0.8434 - val_loss: 0.3839\n"
          ]
        }
      ]
    },
    {
      "cell_type": "code",
      "source": [
        "print(\"[INFO] serializing network...\")\n",
        "model.save('Scene.model.h5')  # save the model for future use"
      ],
      "metadata": {
        "colab": {
          "base_uri": "https://localhost:8080/"
        },
        "id": "--zRckVLAaif",
        "outputId": "5bb5923f-0b8c-4136-9f2e-3e4bcd61cf3a"
      },
      "execution_count": 25,
      "outputs": [
        {
          "output_type": "stream",
          "name": "stderr",
          "text": [
            "WARNING:absl:You are saving your model as an HDF5 file via `model.save()` or `keras.saving.save_model(model)`. This file format is considered legacy. We recommend using instead the native Keras format, e.g. `model.save('my_model.keras')` or `keras.saving.save_model(model, 'my_model.keras')`. \n"
          ]
        },
        {
          "output_type": "stream",
          "name": "stdout",
          "text": [
            "[INFO] serializing network...\n"
          ]
        }
      ]
    },
    {
      "cell_type": "code",
      "source": [
        "# plot the training and validation accuracy\n",
        "N = np.arange(0, EPOCHS)\n",
        "plt.style.use(\"ggplot\")\n",
        "plt.figure(figsize = [10,8])\n",
        "plt.plot(N, H.history[\"accuracy\"], label=\"train_acc\")\n",
        "plt.plot(N, H.history[\"val_accuracy\"], label=\"val_acc\")\n",
        "plt.title(\"CNN: Training and Validation Accuracy\")\n",
        "plt.xlabel(\"Epoch #\", weight=\"bold\")\n",
        "plt.ylabel(\"Accuracy\", weight=\"bold\")\n",
        "plt.legend()\n",
        "plt.show()"
      ],
      "metadata": {
        "colab": {
          "base_uri": "https://localhost:8080/",
          "height": 723
        },
        "id": "gGAqvDnPBeSC",
        "outputId": "5b84d933-80b9-4d35-98cf-e3ab88d85c85"
      },
      "execution_count": 26,
      "outputs": [
        {
          "output_type": "display_data",
          "data": {
            "text/plain": [
              "<Figure size 1000x800 with 1 Axes>"
            ],
            "image/png": "[encoded data removed]"
          },
          "metadata": {}
        }
      ]
    },
    {
      "cell_type": "code",
      "source": [
        "# plot the training and validation loss\n",
        "N = np.arange(0, EPOCHS)\n",
        "plt.style.use(\"ggplot\")\n",
        "plt.figure(figsize = [10,8])\n",
        "plt.plot(N, H.history[\"loss\"], label=\"train_loss\")\n",
        "plt.plot(N, H.history[\"val_loss\"], label=\"val_loss\")\n",
        "plt.title(\"CNN: Training & Validation Loss\")\n",
        "plt.xlabel(\"Epoch #\", weight=\"bold\")\n",
        "plt.ylabel(\"Loss\", weight=\"bold\")\n",
        "plt.legend()\n",
        "plt.show()"
      ],
      "metadata": {
        "colab": {
          "base_uri": "https://localhost:8080/",
          "height": 723
        },
        "id": "07LrpL7KJrhI",
        "outputId": "c26c8756-47dc-4b6c-d525-046a12a9b11d"
      },
      "execution_count": 27,
      "outputs": [
        {
          "output_type": "display_data",
          "data": {
            "text/plain": [
              "<Figure size 1000x800 with 1 Axes>"
            ],
            "image/png": "[encoded data removed]"
          },
          "metadata": {}
        }
      ]
    },
    {
      "cell_type": "code",
      "source": [
        "! pip install gradio==3.50\n",
        "import gradio as gr  # deployment using gradio lib."
      ],
      "metadata": {
        "colab": {
          "base_uri": "https://localhost:8080/"
        },
        "id": "mcwE3psHJ5l0",
        "outputId": "56e26fb0-594c-48e6-ca9c-e8f67cb0d6ab"
      },
      "execution_count": 28,
      "outputs": [
        {
          "output_type": "stream",
          "name": "stdout",
          "text": [
            "Requirement already satisfied: gradio==3.50 in /usr/local/lib/python3.10/dist-packages (3.50.0)\n",
            "Requirement already satisfied: aiofiles<24.0,>=22.0 in /usr/local/lib/python3.10/dist-packages (from gradio==3.50) (23.2.1)\n",
            "Requirement already satisfied: altair<6.0,>=4.2.0 in /usr/local/lib/python3.10/dist-packages (from gradio==3.50) (4.2.2)\n",
            "Requirement already satisfied: fastapi in /usr/local/lib/python3.10/dist-packages (from gradio==3.50) (0.115.0)\n",
            "Requirement already satisfied: ffmpy in /usr/local/lib/python3.10/dist-packages (from gradio==3.50) (0.4.0)\n",
            "Requirement already satisfied: gradio-client==0.6.1 in /usr/local/lib/python3.10/dist-packages (from gradio==3.50) (0.6.1)\n",
            "Requirement already satisfied: httpx in /usr/local/lib/python3.10/dist-packages (from gradio==3.50) (0.27.2)\n",
            "Requirement already satisfied: huggingface-hub>=0.14.0 in /usr/local/lib/python3.10/dist-packages (from gradio==3.50) (0.24.7)\n",
            "Requirement already satisfied: importlib-resources<7.0,>=1.3 in /usr/local/lib/python3.10/dist-packages (from gradio==3.50) (6.4.5)\n",
            "Requirement already satisfied: jinja2<4.0 in /usr/local/lib/python3.10/dist-packages (from gradio==3.50) (3.1.4)\n",
            "Requirement already satisfied: markupsafe~=2.0 in /usr/local/lib/python3.10/dist-packages (from gradio==3.50) (2.1.5)\n",
            "Requirement already satisfied: matplotlib~=3.0 in /usr/local/lib/python3.10/dist-packages (from gradio==3.50) (3.7.1)\n",
            "Requirement already satisfied: numpy~=1.0 in /usr/local/lib/python3.10/dist-packages (from gradio==3.50) (1.26.4)\n",
            "Requirement already satisfied: orjson~=3.0 in /usr/local/lib/python3.10/dist-packages (from gradio==3.50) (3.10.7)\n",
            "Requirement already satisfied: packaging in /usr/local/lib/python3.10/dist-packages (from gradio==3.50) (24.1)\n",
            "Requirement already satisfied: pandas<3.0,>=1.0 in /usr/local/lib/python3.10/dist-packages (from gradio==3.50) (2.1.4)\n",
            "Requirement already satisfied: pillow<11.0,>=8.0 in /usr/local/lib/python3.10/dist-packages (from gradio==3.50) (10.4.0)\n",
            "Requirement already satisfied: pydantic!=1.8,!=1.8.1,!=2.0.0,!=2.0.1,<3.0.0,>=1.7.4 in /usr/local/lib/python3.10/dist-packages (from gradio==3.50) (2.9.2)\n",
            "Requirement already satisfied: pydub in /usr/local/lib/python3.10/dist-packages (from gradio==3.50) (0.25.1)\n",
            "Requirement already satisfied: python-multipart in /usr/local/lib/python3.10/dist-packages (from gradio==3.50) (0.0.10)\n",
            "Requirement already satisfied: pyyaml<7.0,>=5.0 in /usr/local/lib/python3.10/dist-packages (from gradio==3.50) (6.0.2)\n",
            "Requirement already satisfied: requests~=2.0 in /usr/local/lib/python3.10/dist-packages (from gradio==3.50) (2.32.3)\n",
            "Requirement already satisfied: semantic-version~=2.0 in /usr/local/lib/python3.10/dist-packages (from gradio==3.50) (2.10.0)\n",
            "Requirement already satisfied: typing-extensions~=4.0 in /usr/local/lib/python3.10/dist-packages (from gradio==3.50) (4.12.2)\n",
            "Requirement already satisfied: uvicorn>=0.14.0 in /usr/local/lib/python3.10/dist-packages (from gradio==3.50) (0.30.6)\n",
            "Requirement already satisfied: websockets<12.0,>=10.0 in /usr/local/lib/python3.10/dist-packages (from gradio==3.50) (11.0.3)\n",
            "Requirement already satisfied: fsspec in /usr/local/lib/python3.10/dist-packages (from gradio-client==0.6.1->gradio==3.50) (2024.6.1)\n",
            "Requirement already satisfied: entrypoints in /usr/local/lib/python3.10/dist-packages (from altair<6.0,>=4.2.0->gradio==3.50) (0.4)\n",
            "Requirement already satisfied: jsonschema>=3.0 in /usr/local/lib/python3.10/dist-packages (from altair<6.0,>=4.2.0->gradio==3.50) (4.23.0)\n",
            "Requirement already satisfied: toolz in /usr/local/lib/python3.10/dist-packages (from altair<6.0,>=4.2.0->gradio==3.50) (0.12.1)\n",
            "Requirement already satisfied: filelock in /usr/local/lib/python3.10/dist-packages (from huggingface-hub>=0.14.0->gradio==3.50) (3.16.1)\n",
            "Requirement already satisfied: tqdm>=4.42.1 in /usr/local/lib/python3.10/dist-packages (from huggingface-hub>=0.14.0->gradio==3.50) (4.66.5)\n",
            "Requirement already satisfied: contourpy>=1.0.1 in /usr/local/lib/python3.10/dist-packages (from matplotlib~=3.0->gradio==3.50) (1.3.0)\n",
            "Requirement already satisfied: cycler>=0.10 in /usr/local/lib/python3.10/dist-packages (from matplotlib~=3.0->gradio==3.50) (0.12.1)\n",
            "Requirement already satisfied: fonttools>=4.22.0 in /usr/local/lib/python3.10/dist-packages (from matplotlib~=3.0->gradio==3.50) (4.53.1)\n",
            "Requirement already satisfied: kiwisolver>=1.0.1 in /usr/local/lib/python3.10/dist-packages (from matplotlib~=3.0->gradio==3.50) (1.4.7)\n",
            "Requirement already satisfied: pyparsing>=2.3.1 in /usr/local/lib/python3.10/dist-packages (from matplotlib~=3.0->gradio==3.50) (3.1.4)\n",
            "Requirement already satisfied: python-dateutil>=2.7 in /usr/local/lib/python3.10/dist-packages (from matplotlib~=3.0->gradio==3.50) (2.8.2)\n",
            "Requirement already satisfied: pytz>=2020.1 in /usr/local/lib/python3.10/dist-packages (from pandas<3.0,>=1.0->gradio==3.50) (2024.2)\n",
            "Requirement already satisfied: tzdata>=2022.1 in /usr/local/lib/python3.10/dist-packages (from pandas<3.0,>=1.0->gradio==3.50) (2024.1)\n",
            "Requirement already satisfied: annotated-types>=0.6.0 in /usr/local/lib/python3.10/dist-packages (from pydantic!=1.8,!=1.8.1,!=2.0.0,!=2.0.1,<3.0.0,>=1.7.4->gradio==3.50) (0.7.0)\n",
            "Requirement already satisfied: pydantic-core==2.23.4 in /usr/local/lib/python3.10/dist-packages (from pydantic!=1.8,!=1.8.1,!=2.0.0,!=2.0.1,<3.0.0,>=1.7.4->gradio==3.50) (2.23.4)\n",
            "Requirement already satisfied: charset-normalizer<4,>=2 in /usr/local/lib/python3.10/dist-packages (from requests~=2.0->gradio==3.50) (3.3.2)\n",
            "Requirement already satisfied: idna<4,>=2.5 in /usr/local/lib/python3.10/dist-packages (from requests~=2.0->gradio==3.50) (3.10)\n",
            "Requirement already satisfied: urllib3<3,>=1.21.1 in /usr/local/lib/python3.10/dist-packages (from requests~=2.0->gradio==3.50) (2.2.3)\n",
            "Requirement already satisfied: certifi>=2017.4.17 in /usr/local/lib/python3.10/dist-packages (from requests~=2.0->gradio==3.50) (2024.8.30)\n",
            "Requirement already satisfied: click>=7.0 in /usr/local/lib/python3.10/dist-packages (from uvicorn>=0.14.0->gradio==3.50) (8.1.7)\n",
            "Requirement already satisfied: h11>=0.8 in /usr/local/lib/python3.10/dist-packages (from uvicorn>=0.14.0->gradio==3.50) (0.14.0)\n",
            "Requirement already satisfied: starlette<0.39.0,>=0.37.2 in /usr/local/lib/python3.10/dist-packages (from fastapi->gradio==3.50) (0.38.6)\n",
            "Requirement already satisfied: anyio in /usr/local/lib/python3.10/dist-packages (from httpx->gradio==3.50) (3.7.1)\n",
            "Requirement already satisfied: httpcore==1.* in /usr/local/lib/python3.10/dist-packages (from httpx->gradio==3.50) (1.0.5)\n",
            "Requirement already satisfied: sniffio in /usr/local/lib/python3.10/dist-packages (from httpx->gradio==3.50) (1.3.1)\n",
            "Requirement already satisfied: attrs>=22.2.0 in /usr/local/lib/python3.10/dist-packages (from jsonschema>=3.0->altair<6.0,>=4.2.0->gradio==3.50) (24.2.0)\n",
            "Requirement already satisfied: jsonschema-specifications>=2023.03.6 in /usr/local/lib/python3.10/dist-packages (from jsonschema>=3.0->altair<6.0,>=4.2.0->gradio==3.50) (2023.12.1)\n",
            "Requirement already satisfied: referencing>=0.28.4 in /usr/local/lib/python3.10/dist-packages (from jsonschema>=3.0->altair<6.0,>=4.2.0->gradio==3.50) (0.35.1)\n",
            "Requirement already satisfied: rpds-py>=0.7.1 in /usr/local/lib/python3.10/dist-packages (from jsonschema>=3.0->altair<6.0,>=4.2.0->gradio==3.50) (0.20.0)\n",
            "Requirement already satisfied: six>=1.5 in /usr/local/lib/python3.10/dist-packages (from python-dateutil>=2.7->matplotlib~=3.0->gradio==3.50) (1.16.0)\n",
            "Requirement already satisfied: exceptiongroup in /usr/local/lib/python3.10/dist-packages (from anyio->httpx->gradio==3.50) (1.2.2)\n"
          ]
        }
      ]
    },
    {
      "cell_type": "code",
      "source": [
        "def predict_image(image):  # define a function & load an image from internet into it for testing the model\n",
        "    # load the image\n",
        "\n",
        "    # pre-process the image for classification\n",
        "    image = cv2.resize(image, (28, 28))  # resize the image\n",
        "    image = image.astype(\"float\") / 255.0\n",
        "    image = img_to_array(image)\n",
        "    image = np.expand_dims(image, axis=0)\n",
        "\n",
        "\n",
        "    preds = model.predict(image)[0]\n",
        "    result = dict()\n",
        "    result[\"Buildings\"] = round(float(list(preds)[0]), 3)\n",
        "    result[\"Forest\"] = round(float(list(preds)[1]), 3)\n",
        "    result[\"Sea\"] = round(float(list(preds)[2]), 3)\n",
        "\n",
        "    print(result)\n",
        "\n",
        "    return result"
      ],
      "metadata": {
        "id": "mdA6NYVlKRpH"
      },
      "execution_count": 29,
      "outputs": []
    },
    {
      "cell_type": "code",
      "source": [
        "im = gr.inputs.Image(shape=(32,32))\n",
        "label = gr.outputs.Label(num_top_classes=3)\n",
        "\n",
        "gr.Interface(fn=predict_image, inputs=im, outputs=label, capture_session=True, title=\"CNN Demo\").launch(share=True)"
      ],
      "metadata": {
        "colab": {
          "base_uri": "https://localhost:8080/",
          "height": 626
        },
        "id": "eaiHI6z6L2l2",
        "outputId": "e0c98e10-bbe6-4a42-ce70-f297746dd837"
      },
      "execution_count": 30,
      "outputs": [
        {
          "output_type": "stream",
          "name": "stdout",
          "text": [
            "Colab notebook detected. To show errors in colab notebook, set debug=True in launch()\n",
            "IMPORTANT: You are using gradio version 3.50.0, however version 4.29.0 is available, please upgrade.\n",
            "--------\n",
            "Running on public URL: https://332c4cee9ba0b0f8dc.gradio.live\n",
            "\n",
            "This share link expires in 72 hours. For free permanent hosting and GPU upgrades, run `gradio deploy` from Terminal to deploy to Spaces (https://huggingface.co/spaces)\n"
          ]
        },
        {
          "output_type": "display_data",
          "data": {
            "text/plain": [
              "<IPython.core.display.HTML object>"
            ],
            "text/html": [
              "<div><iframe src=\"https://332c4cee9ba0b0f8dc.gradio.live\" width=\"100%\" height=\"500\" allow=\"autoplay; camera; microphone; clipboard-read; clipboard-write;\" frameborder=\"0\" allowfullscreen></iframe></div>"
            ]
          },
          "metadata": {}
        },
        {
          "output_type": "execute_result",
          "data": {
            "text/plain": []
          },
          "metadata": {},
          "execution_count": 30
        }
      ]
    },
    {
      "cell_type": "code",
      "source": [],
      "metadata": {
        "id": "dL4XDt2nLPJU"
      },
      "execution_count": 30,
      "outputs": []
    }
  ]
}